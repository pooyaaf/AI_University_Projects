{
 "cells": [
  {
   "attachments": {},
   "cell_type": "markdown",
   "id": "c182ce34",
   "metadata": {},
   "source": [
    "<center style><h3>Computer Assignment 1</h3></center>\n",
    "<center style><h4>Informed and Uninformed Search</h4></center>\n",
    " <h4 style=\"text-align:right\">\n",
    "        محمد پویا افشاری - 810198577\n",
    "</h4>"
   ]
  },
  {
   "attachments": {},
   "cell_type": "markdown",
   "id": "86148ff5",
   "metadata": {},
   "source": [
    "  <h2 style=\"text-align:right\">\n",
    "         هدف\n",
    "    </h2>\n",
    "        <p style=\"text-align:right\">\n",
    "        پیدا کردن مسیر بهینه برای انتفال پیتزا به همه دانش جویا با رعایت اولیت و مسیر بهینه با روش های جستجو متفاوت شامل bfs, ids, a star , weighted A star \n",
    "    </p>"
   ]
  },
  {
   "cell_type": "markdown",
   "id": "35dc8380",
   "metadata": {},
   "source": [
    "<center style><h3>Computer Assignment 1</h3></center>\n",
    "<center style><h4>Informed and Uninformed Search</h4></center>\n",
    " <h4 style=\"text-align:right\">\n",
    "        محمد پویا افشاری - 810198577\n",
    "</h4>"
   ]
  },
  {
   "cell_type": "markdown",
   "id": "76b1374b",
   "metadata": {},
   "source": [
    "Goals:\n",
    "*   Learning informed search algorithms (A*)\n",
    "*   Learning uninformed search algorithms (BFS, IDS)\n",
    "*   How to formulate problems (Abstraction)\n",
    "*   Pros and Cons of each algorithm"
   ]
  },
  {
   "cell_type": "code",
   "execution_count": 273,
   "id": "2489f14e",
   "metadata": {},
   "outputs": [],
   "source": [
    "BFS_PRINT_PATH = 0"
   ]
  },
  {
   "cell_type": "markdown",
   "id": "83668969",
   "metadata": {},
   "source": [
    "## Importing Class:"
   ]
  },
  {
   "cell_type": "code",
   "execution_count": 274,
   "id": "747ca2d1",
   "metadata": {},
   "outputs": [],
   "source": [
    "import copy\n",
    "from collections import Counter\n",
    "from queue import Queue\n",
    "import time\n",
    "import numpy as np\n",
    "from typing import List, Tuple\n"
   ]
  },
  {
   "cell_type": "markdown",
   "id": "28307979",
   "metadata": {},
   "source": [
    "## Class State:"
   ]
  },
  {
   "cell_type": "code",
   "execution_count": 275,
   "id": "bd7825d0",
   "metadata": {},
   "outputs": [],
   "source": [
    "class State:\n",
    "    def __init__(self,edge_reamin_cost) -> None:\n",
    "        self.position = 0\n",
    "        self.prev_state = None\n",
    "        self.students_seen = []\n",
    "        self.pizza_seen = []\n",
    "        #loose edge\n",
    "        self.prev_edge = None\n",
    "        self.edge_remain_cost = edge_reamin_cost\n",
    "        self.last_edge_visited = None\n",
    "        self.last_visited_node = None\n",
    "        #self.loose_edges = dict.fromkeys(loose_edges, 0)\n",
    "        #self.loose_remain = 0\n",
    "        #self.loose_edges = loose_edges\n",
    "       # self.loose_remain = 0\n",
    "        #self.delivered = delivered\n",
    "        self.cost = 0\n",
    "\n",
    "    def __members(self):\n",
    "        return (self.position, self.students_seen, self.pizza_seen)\n",
    "\n",
    "\n",
    "    def __eq__(self, other):\n",
    "        if type(other) is type(self):\n",
    "            return self.__members() == other.__members()\n",
    "        return False\n",
    "\n",
    "    def __hash__(self):\n",
    "        return hash(f\"{self.position},{self.students_seen},{self.pizza_seen},{self.cost}\")\n",
    "\n",
    "    def __str__(self) -> str:\n",
    "        return f\"\\n cost:{self.cost}, \\\n",
    "                 \\n position{self.position + 1} \\\n",
    "                 \\n student:{[x+1 for x in self.students_seen]} \\\n",
    "                 \\n pizza:{[x+1 for x in self.pizza_seen]}\\\n",
    "                  \\n\\n\"  \n",
    "    \n",
    "    def is_order_satisfied(self, order):\n",
    "        for left_student, right_student in order:\n",
    "            if left_student in self.students_seen and right_student not in self.students_seen:\n",
    "                continue\n",
    "            if left_student not in self.students_seen and right_student in self.students_seen:\n",
    "                return False\n",
    "            if right_student in self.students_seen and left_student in self.students_seen and  self.students_seen.index(right_student) < self.students_seen.index(left_student):\n",
    "                # if right student was seen before left student, return False\n",
    "                return False\n",
    "        return True\n"
   ]
  },
  {
   "cell_type": "markdown",
   "id": "9986f26b",
   "metadata": {},
   "source": [
    "## Class Graph"
   ]
  },
  {
   "cell_type": "code",
   "execution_count": 276,
   "id": "2f290f6e",
   "metadata": {},
   "outputs": [],
   "source": [
    "class Graph:\n",
    "    def __init__(self, v :int) -> None:\n",
    "        self.v = v # number of vertices\n",
    "        self.edges = [[] for _ in range(v)] #adj list\n",
    "        self.student_pizza_pairs = {} # dictionary to store student-pizza pairs\n",
    "        self.pizza = []\n",
    "        self.students = []\n",
    "        self.start_position = 0\n",
    "        self.loose_edge = []\n",
    "        self.order = []\n",
    "        self.edgeList = []\n",
    "        self.edge_remain_cost = []\n",
    "        \n",
    "    def add_edge(self, u :int, v :int) -> None:\n",
    "        self.edges[u].append(v)\n",
    "        self.edges[v].append(u)\n",
    "\n",
    "    def is_loose_edge(self, u: int, v: int) -> bool:\n",
    "        if ((u,v) in self.loose_edge or (v,u) in self.loose_edge) :\n",
    "            return True\n",
    "\n",
    "    def is_pizza(self, node :int) -> bool:\n",
    "        return (node in self.pizza)\n",
    "\n",
    "    def is_student(self, node :int) -> bool:\n",
    "        return (node in self.student_pizza_pairs.keys())\n",
    "\n",
    "    def get_neighbors(self, s :State):\n",
    "        return self.edges[s.position]\n",
    "    \n",
    "    def add_student_pizza_pair(self, student_place: int, pizza_node: int) -> None:\n",
    "        self.student_pizza_pairs[student_place] = pizza_node\n"
   ]
  },
  {
   "cell_type": "markdown",
   "id": "0b831514",
   "metadata": {},
   "source": [
    "## parsing Input:"
   ]
  },
  {
   "cell_type": "code",
   "execution_count": 277,
   "id": "f7eb97af",
   "metadata": {},
   "outputs": [],
   "source": [
    "def create_graph(path :str) -> Graph:\n",
    "    file = open(path, \"r\")\n",
    "    n, m = map(int, file.readline().split(\" \"))\n",
    "    g = Graph(n)\n",
    "    for _ in range(m):\n",
    "        u, v = map(int, file.readline().split(\" \"))\n",
    "       # edge = tuple(u,v)\n",
    "        g.edgeList.append((u-1,v-1))\n",
    "        g.add_edge(u -1, v -1)\n",
    "\n",
    "    num_loose_edges = int(file.readline().strip())\n",
    "    loose_edges = {}\n",
    "    for _ in range(num_loose_edges):\n",
    "        edge, time = map(int, file.readline().strip().split())\n",
    "        if edge not in loose_edges:\n",
    "            u, v = g.edgeList[edge-1]\n",
    "            loose_edges[(u,v)] = time\n",
    "            loose_edges[(v, u)] = time\n",
    "            \n",
    "    g.loose_edge = loose_edges\n",
    "    g.start_position = (int(file.readline())-1)\n",
    "    g.edge_remain_cost = {(u, v): 0 for u, v in g.edgeList}\n",
    "    for u, v in g.edgeList:\n",
    "        g.edge_remain_cost[(v, u)] = 0\n",
    "    num_students = int(file.readline().strip())\n",
    "    # create a dictionary to map each student to their index in the graph's students list\n",
    "    student_dict = {}\n",
    "    for _ in range(num_students):\n",
    "        student_place, pizza_node = map(int, file.readline().strip().split() )\n",
    "        student_place = student_place -1\n",
    "        pizza_node = pizza_node -1\n",
    "        student_dict[_] = student_place\n",
    "        g.add_student_pizza_pair(student_place, pizza_node)\n",
    "        g.pizza.append(pizza_node)\n",
    "        g.students.append(student_place)\n",
    "\n",
    "    t = int(file.readline().strip())\n",
    "    delivery_order = []\n",
    "    for _ in range(t):\n",
    "        a,b = map(int, file.readline().strip().split())\n",
    "        a -= 1\n",
    "        b -= 1\n",
    "\n",
    "        if a in student_dict and b in student_dict:\n",
    "            delivery_order.append((student_dict[a], student_dict[b]))\n",
    "    g.order = delivery_order\n",
    "    return g\n"
   ]
  },
  {
   "cell_type": "code",
   "execution_count": 278,
   "id": "5747556f",
   "metadata": {},
   "outputs": [],
   "source": [
    "g1 = create_graph(\"Test4.txt\")\n",
    "#g2 = create_graph(\"Test4.txt\")\n",
    "#g3 = create_graph(\"Test1.txt\")\n",
    "#g4 = create_graph(\"Test2.txt\")\n",
    "#g5 = create_graph(\"Test3.txt\")"
   ]
  },
  {
   "cell_type": "code",
   "execution_count": 279,
   "id": "5eb8b110",
   "metadata": {},
   "outputs": [
    {
     "name": "stdout",
     "output_type": "stream",
     "text": [
      "v: 5,student_pizza_pairs:{3: 2, 4: 1},edges:[[1], [0, 2], [1, 3, 4], [2], [2]],student:[3, 4],pizza:[2, 1],start_position:0,order:[(3, 4)],loose_edge:{(2, 3): 2, (3, 2): 2},edgeList:[(0, 1), (1, 2), (2, 3), (2, 4)],edge_remain_cost:{(0, 1): 0, (1, 2): 0, (2, 3): 0, (2, 4): 0, (1, 0): 0, (2, 1): 0, (3, 2): 0, (4, 2): 0}\n"
     ]
    }
   ],
   "source": [
    "print(\"v: {},student_pizza_pairs:{},edges:{},student:{},pizza:{},start_position:{},order:{},loose_edge:{},edgeList:{},edge_remain_cost:{}\".format(g1.v,g1.student_pizza_pairs,g1.edges,g1.students,g1.pizza,g1.start_position,g1.order,g1.loose_edge,g1.edgeList,g1.edge_remain_cost))\n"
   ]
  },
  {
   "cell_type": "markdown",
   "id": "c9be50cb",
   "metadata": {},
   "source": [
    "## Search Modules:\n"
   ]
  },
  {
   "cell_type": "markdown",
   "id": "1b17c43e",
   "metadata": {},
   "source": [
    "- Initial State:\n",
    "\n",
    "create_initial_state function creates initial state which is the position which we start searching\n",
    "\n",
    "note that there is a diffrence between states and nodes in graph that we whatch. we may be in same node but have diffrent states...\n",
    "\n",
    "- Transition Modue:\n",
    "\n",
    "transition(s :State, g :Graph, p :int) -> State function\n",
    "gets one state and returns next-state\n",
    "\n",
    "- Goal State:\n",
    "\n",
    "The goal of the delivery driver is to deliver pizzas to all the students in the graph.\n",
    "\n",
    "The reached_goal function checks if the number of students who have received their pizzas is equal to the total number of students in the graph. If this condition is true, it means that all the students have received their pizzas, and the driver has reached the goal.\n",
    "    "
   ]
  },
  {
   "cell_type": "markdown",
   "id": "b10e7859",
   "metadata": {},
   "source": [
    "## Initial state"
   ]
  },
  {
   "cell_type": "code",
   "execution_count": 280,
   "id": "cc59e2f0",
   "metadata": {},
   "outputs": [],
   "source": [
    "def create_initial_state(g :Graph) -> State:\n",
    "    s = State(g.edge_remain_cost)\n",
    "    s.position = g.start_position\n",
    "    if s.position in g.pizza:\n",
    "        s.pizza_seen.append(g.start_position)\n",
    "    return s\n",
    "\n",
    "initial_state1 = create_initial_state(g1)"
   ]
  },
  {
   "cell_type": "markdown",
   "id": "d252e842",
   "metadata": {},
   "source": [
    "## Transition module and goal state implementation:\n"
   ]
  },
  {
   "cell_type": "code",
   "execution_count": 281,
   "id": "bf5dcd30",
   "metadata": {},
   "outputs": [],
   "source": [
    "counter = 0\n",
    "\n",
    "def reached_goal(s :State, g :Graph,order: List[Tuple[int, int]]) -> bool:\n",
    "    if(len(g.students) == len(s.students_seen)):\n",
    "        return True\n",
    "            #students_seen = s.students_seen\n",
    "            #for s1, s2 in order:\n",
    "            #    if students_seen.index(s1) >= students_seen.index(s2):\n",
    "            #        return False\n",
    "            #return True\n",
    "\n",
    "\n",
    "\n",
    "def transition(s: State, g: Graph, dest: int) -> State:\n",
    "    global counter\n",
    "    counter += 1\n",
    "    next_state = copy.deepcopy(s)\n",
    "    next_state.prev_state = s\n",
    "    next_state.cost += 1   \n",
    "    next_state.position = dest\n",
    "    \n",
    "  #  if(s.position != dest):\n",
    "  #      next_state.last_edge_visited = ((s.position,dest))\n",
    "#\n",
    "  #  if(next_state.edge_remain_cost[next_state.last_edge_visited] > 0 ):\n",
    "  #      next_state.position = s.position\n",
    "  #  \n",
    "  #  if (next_state.edge_remain_cost[next_state.last_edge_visited] == 0):\n",
    "  #      if (next_state.last_edge_visited in g.loose_edge or next_state.last_edge_visited_rev in g.loose_edge):\n",
    "  #          next_state.edge_remain_cost[next_state.last_edge_visited] = g.loose_edge[next_state.last_edge_visited]\n",
    "        #  \n",
    "    if g.is_pizza(dest) and dest not in s.pizza_seen:\n",
    "        if(len(s.pizza_seen) == 0):\n",
    "            for student, pizza in g.student_pizza_pairs.items():\n",
    "                if pizza == dest:\n",
    "                    student=student\n",
    "                    break\n",
    "            for student1,student2 in g.order:\n",
    "                if(student in next_state.students_seen):\n",
    "                    break\n",
    "                if(student != student1 and student != student2):\n",
    "                    next_state.pizza_seen.append(dest)\n",
    "                    #print(\"1\")\n",
    "                if(student == student1 and student not in next_state.students_seen):\n",
    "                    next_state.pizza_seen.append(dest)\n",
    "                    #print(\"student:{},student1:{},dest:{},pizza:{}\".format(student,student1,dest,pizza))\n",
    "                if( student == student2 and student1 in next_state.students_seen):\n",
    "                    next_state.pizza_seen.append(dest)\n",
    "                    #print(\"3\"\n",
    "    if g.is_student(dest) and dest not in s.students_seen:\n",
    "        # check if the pizza that the student wants is the pizza that it currently sees\n",
    "        for student, pizza in g.student_pizza_pairs.items():\n",
    "            if pizza in s.pizza_seen and student == dest:\n",
    "                next_state.students_seen.append(dest)\n",
    "                next_state.pizza_seen.remove(pizza)\n",
    "                #print(\"next_state:{},dest: {},pizzas:{},student:{},pizza_seen:{},students_seen:{}\".format(next_state,dest,pizza,student,s.pizza_seen,s.students_seen))\n",
    "                break\n",
    "    #print(\"last_edge_visited:{},edge_remain_cost:{}\".format(next_state.last_edge_visited,next_state.edge_remain_cost))\n",
    "    #decrease every remain cost > 0 by 1\n",
    "  #  for edge, cost in next_state.edge_remain_cost.items():\n",
    "  #      if cost > 0:\n",
    "  #          next_state.edge_remain_cost[edge] = cost - 1\n",
    "    return next_state\n",
    "\n"
   ]
  },
  {
   "cell_type": "markdown",
   "id": "205112e4",
   "metadata": {},
   "source": [
    "## Print_path function:\n",
    "to print path after finding it!"
   ]
  },
  {
   "cell_type": "code",
   "execution_count": 282,
   "id": "37cda83c",
   "metadata": {},
   "outputs": [],
   "source": [
    "def print_path(final_state : State) -> None:\n",
    "    print(\"PATH::\")\n",
    "    s = final_state\n",
    "    while True:\n",
    "        print(f\"{s.position + 1} <== \", end = \" \")\n",
    "        s = s.prev_state\n",
    "        if s.prev_state == None: #s is first node\n",
    "            print(f\"{s.position + 1} \")\n",
    "            break\n",
    "         "
   ]
  },
  {
   "cell_type": "markdown",
   "id": "7819e258",
   "metadata": {},
   "source": [
    "## Test function:\n"
   ]
  },
  {
   "cell_type": "code",
   "execution_count": 283,
   "id": "e09ecf7b",
   "metadata": {},
   "outputs": [],
   "source": [
    "def test(g :Graph, method) -> None:\n",
    "    global counter\n",
    "    counter = 0\n",
    "    start = time.time()\n",
    "    path = method(g, create_initial_state(g))\n",
    "    end = time.time()\n",
    "    print(f\"time:{end - start}\")\n",
    "    print_path(path)\n",
    "    print(f\"cost:{path.cost},\")\n",
    "    print(f\"states:{counter},\")"
   ]
  },
  {
   "cell_type": "markdown",
   "id": "6d1b5d82",
   "metadata": {},
   "source": [
    "# BFS:"
   ]
  },
  {
   "cell_type": "markdown",
   "id": "2e77588c",
   "metadata": {},
   "source": [
    "BFS (Breath First Search) is an uninformed search algorithms witch will check all possible actions to find the answer.It is a simple algorithm that starts at the root node and explores all the neighboring nodes at the present depth level before moving on to the next level. It uses a queue data structure to keep track of the nodes to be explored.\n",
    "\n",
    "This algorithm is very memory hungry and relatively slow.\n",
    "\n",
    "We use a queue.in each turn, we dequeue from state and enqueue all succssors to queue until reaching goal state. becasu all path costs are same (1), we can get optimal soloution.\n",
    "\n",
    "Pros:\n",
    "* Completeness: BFS is complete, which means it can always find a solution if one exists\n",
    "* Optimal solution: if the path cost is uniform, BFS guarantees to find the shortest path to the goal.\n",
    "* Simple to understand and implement.\n",
    "\n",
    "Cons:\n",
    "* Memory-intensive: the amount of memory required can be quite large, especially for a graph with many nodes.\n",
    "* Time-intensive: BFS may take a long time to find a solution, especially if the solution is deep.\n",
    "\n"
   ]
  },
  {
   "cell_type": "code",
   "execution_count": 284,
   "id": "2bc5712a",
   "metadata": {},
   "outputs": [],
   "source": [
    "def bfs(g :Graph, initial_state :State) -> State:\n",
    "    q = []\n",
    "    q.append(initial_state)\n",
    "    explored = {initial_state, }\n",
    "    cost = 0\n",
    "    while 1:\n",
    "        state = q.pop(0)\n",
    "        #for test\n",
    "        if state.cost > cost:\n",
    "            cost = state.cost\n",
    "            print(f\"cost:{cost}\")\n",
    "\n",
    "        for neighbor in g.get_neighbors(state):\n",
    "            t = transition(state, g, neighbor)\n",
    "            if t not in explored:\n",
    "                if reached_goal(t, g , g.order):\n",
    "                    return t\n",
    "                q.append(t)\n",
    "                explored.add(t)"
   ]
  },
  {
   "cell_type": "markdown",
   "id": "efc54ccb",
   "metadata": {},
   "source": [
    "## BFS Test:"
   ]
  },
  {
   "cell_type": "markdown",
   "id": "3c80d2f3",
   "metadata": {},
   "source": [
    "Test1:"
   ]
  },
  {
   "cell_type": "code",
   "execution_count": 285,
   "id": "96bca7cd",
   "metadata": {},
   "outputs": [
    {
     "name": "stdout",
     "output_type": "stream",
     "text": [
      "cost:1\n",
      "cost:2\n",
      "cost:3\n",
      "cost:4\n",
      "cost:5\n",
      "cost:6\n",
      "time:0.007996082305908203\n",
      "PATH::\n",
      "5 <==  3 <==  2 <==  3 <==  4 <==  3 <==  2 <==  1 \n",
      "cost:7,\n",
      "states:42,\n"
     ]
    }
   ],
   "source": [
    "test(g1, bfs)"
   ]
  },
  {
   "cell_type": "markdown",
   "id": "334b2e2b",
   "metadata": {},
   "source": [
    "# IDS:\n",
    "We use dfs with height 0,1,2,3,... til we reach goal state.\n",
    "\n",
    "This algorithms runs DFS on increasing depth limit until find the goal state. So it solves completeness problem of DFS if may DFS faces loop and never get to the goal.\n",
    "\n",
    "Pros:\n",
    "\n",
    "* Complete: IDS is complete, which means it can always find a solution if one exists.\n",
    "* Memory-efficient: IDS uses less memory than BFS because it only keeps track of nodes within the current depth limit.\n",
    "* Time-efficient: IDS is more time-efficient than BFS because it avoids exploring paths that are too deep.\n",
    "(two last are true if and only if we can have good imagination of height which we might find and reach the goal)\n",
    "\n",
    "Cons:\n",
    "\n",
    "* Not always optimal: IDS may not always find the shortest path to the goal.\n",
    "* Can be slow: IDS may still take a long time to find a solution if the search space is large."
   ]
  },
  {
   "cell_type": "markdown",
   "id": "29f83730",
   "metadata": {},
   "source": [
    "## IDS implementation:"
   ]
  },
  {
   "cell_type": "code",
   "execution_count": 286,
   "id": "a7bb28e0",
   "metadata": {},
   "outputs": [],
   "source": [
    "def dfs(state :State, step :int, g :Graph):\n",
    "    if reached_goal(state, g , g.order):\n",
    "        return state\n",
    "    if step == 0:\n",
    "        return None\n",
    "\n",
    "    for neighbor in g.get_neighbors(state):\n",
    "        next_state = transition(state, g, neighbor)\n",
    "        result = dfs(next_state, step - 1, g)\n",
    "        if result != None:\n",
    "            return result\n",
    "    return None\n",
    "\n",
    "h = 0\n",
    "def ids(g:Graph, initial_state :State) -> State:\n",
    "    global h\n",
    "    while True:\n",
    "        h += 1\n",
    "        print(f\"h:{h}\")\n",
    "\n",
    "        result = dfs(initial_state, h, g)\n",
    "        if result != None:\n",
    "            return result\n",
    "        print(f\"cant find in h:{h}\")"
   ]
  },
  {
   "cell_type": "markdown",
   "id": "a7ba391f",
   "metadata": {},
   "source": [
    "## IDS Tests:"
   ]
  },
  {
   "cell_type": "code",
   "execution_count": 287,
   "id": "eeb13220",
   "metadata": {},
   "outputs": [
    {
     "name": "stdout",
     "output_type": "stream",
     "text": [
      "h:1\n",
      "cant find in h:1\n",
      "h:2\n",
      "cant find in h:2\n",
      "h:3\n",
      "cant find in h:3\n",
      "h:4\n",
      "cant find in h:4\n",
      "h:5\n",
      "cant find in h:5\n",
      "h:6\n",
      "cant find in h:6\n",
      "h:7\n",
      "time:0.036000728607177734\n",
      "PATH::\n",
      "5 <==  3 <==  2 <==  3 <==  4 <==  3 <==  2 <==  1 \n",
      "cost:7,\n",
      "states:164,\n"
     ]
    }
   ],
   "source": [
    "h = 0\n",
    "test(g1, ids)"
   ]
  },
  {
   "cell_type": "markdown",
   "id": "a197afcd",
   "metadata": {},
   "source": [
    "# ASTAR:"
   ]
  },
  {
   "cell_type": "markdown",
   "id": "a6f278a5",
   "metadata": {},
   "source": [
    "## A-Star search: "
   ]
  },
  {
   "cell_type": "markdown",
   "id": "cd33a151",
   "metadata": {},
   "source": [
    "Because number of studemts getting fed in any pass from initial state to goal state is consecutively non-decreasing. The heuristic would be consistant.\n",
    "\n",
    "So we choose -len(s.student_seen) as our consistent huristic."
   ]
  },
  {
   "cell_type": "markdown",
   "id": "73d051ab",
   "metadata": {},
   "source": [
    "## A-Star Implementation:"
   ]
  },
  {
   "cell_type": "markdown",
   "id": "1103393a",
   "metadata": {},
   "source": [
    "A* (A-star) is a more complex algorithm that combines both BFS and heuristic functions to guide the search towards the goal. A* evaluates nodes based on both the path cost so far and an estimate of the remaining cost to the goal. The estimate is usually given by a heuristic function that approximates the distance from the current node to the goal.\n",
    "\n",
    "Pros:\n",
    "\n",
    "* Optimality: A* is optimal if the heuristic function is admissible, which means it never overestimates the actual cost to the goal.\n",
    "* Time-efficient: A* can be much faster than BFS or IDS because it uses heuristics to guide the search.\n",
    "* Memory-efficient: A* uses less memory than BFS because it only keeps track of nodes on the current path.\n",
    "\n",
    "Cons:\n",
    "\n",
    "* Completeness: A* is not guaranteed to be complete, especially if the heuristic function is not admissible.\n",
    "* Heuristic function: A* requires a good heuristic function to be effective, and designing a good heuristic function can be challenging.\n",
    "* Implementation complexity: A* is more complex to implement than BFS or IDS.\n",
    "\n",
    "we have two lists, explored and frountier.\n",
    "\n",
    "we choose state s with minimum f(s) = h(s) + cost(s) from frontier and explore its successors.\n",
    "    next_state = min(frountier, key = lambda s : huristic(s) + s.cost) \n",
    "\n",
    "and we remember explored states to make sure not to rewatch them.\n",
    "\n",
    "it will give us optimal soloution if we make sure our huristic is consistent."
   ]
  },
  {
   "cell_type": "code",
   "execution_count": 288,
   "id": "7363cc7a",
   "metadata": {},
   "outputs": [],
   "source": [
    "alpha = 1\n",
    "\n",
    "def huristic(s :State) -> int:\n",
    "    global alpha\n",
    "    return -len(s.students_seen) * alpha\n",
    "\n",
    "def a_star(g:Graph, initial_state :State) -> State:\n",
    "    explored = []\n",
    "    frountier = [initial_state, ]\n",
    "    cost = 0\n",
    "\n",
    "    while True:\n",
    "        next_state = min(frountier, key = lambda s : huristic(s) + s.cost)\n",
    "        frountier.remove(next_state)\n",
    "        explored.append(next_state)\n",
    "\n",
    "        if next_state.cost > cost:\n",
    "            cost = next_state.cost\n",
    "            print(f\"cost:{cost}\")\n",
    "\n",
    "        if reached_goal(next_state, g , g.order):\n",
    "            return next_state\n",
    "        for neighbor in g.get_neighbors(next_state):\n",
    "            t = transition(next_state, g, neighbor)\n",
    "            if t not in explored and t not in frountier:\n",
    "                frountier.append(t)"
   ]
  },
  {
   "cell_type": "markdown",
   "id": "318df370",
   "metadata": {},
   "source": [
    "## Test A-Star"
   ]
  },
  {
   "cell_type": "code",
   "execution_count": 289,
   "id": "ca20e86a",
   "metadata": {},
   "outputs": [],
   "source": [
    "alpha = 1"
   ]
  },
  {
   "cell_type": "markdown",
   "id": "313113c1",
   "metadata": {},
   "source": [
    "### Test1"
   ]
  },
  {
   "cell_type": "code",
   "execution_count": 290,
   "id": "a1dd156b",
   "metadata": {},
   "outputs": [
    {
     "name": "stdout",
     "output_type": "stream",
     "text": [
      "cost:1\n",
      "cost:2\n",
      "cost:3\n",
      "cost:4\n",
      "cost:5\n",
      "cost:6\n",
      "cost:7\n",
      "time:0.003999948501586914\n",
      "PATH::\n",
      "5 <==  3 <==  2 <==  3 <==  4 <==  3 <==  2 <==  1 \n",
      "cost:7,\n",
      "states:21,\n"
     ]
    }
   ],
   "source": [
    "test(g1 , a_star)"
   ]
  },
  {
   "cell_type": "markdown",
   "id": "78a4231a",
   "metadata": {},
   "source": [
    "## Test Weighted A-Star1:\n",
    "* alpha = 5"
   ]
  },
  {
   "cell_type": "code",
   "execution_count": 291,
   "id": "7437f33c",
   "metadata": {},
   "outputs": [],
   "source": [
    "alpha = 5"
   ]
  },
  {
   "cell_type": "markdown",
   "id": "6218a358",
   "metadata": {},
   "source": [
    "### Test1"
   ]
  },
  {
   "cell_type": "code",
   "execution_count": 292,
   "id": "9a95ee6c",
   "metadata": {},
   "outputs": [
    {
     "name": "stdout",
     "output_type": "stream",
     "text": [
      "cost:1\n",
      "cost:2\n",
      "cost:3\n",
      "cost:4\n",
      "cost:5\n",
      "cost:6\n",
      "cost:7\n",
      "time:0.004000663757324219\n",
      "PATH::\n",
      "5 <==  3 <==  2 <==  3 <==  4 <==  3 <==  2 <==  1 \n",
      "cost:7,\n",
      "states:17,\n"
     ]
    }
   ],
   "source": [
    "test(g1 , a_star)"
   ]
  },
  {
   "cell_type": "markdown",
   "id": "82b4199b",
   "metadata": {},
   "source": [
    "## Test Weighted A-Star2:\n",
    "* alpha = 10"
   ]
  },
  {
   "cell_type": "code",
   "execution_count": 293,
   "id": "2a373ad8",
   "metadata": {},
   "outputs": [],
   "source": [
    "alpha = 10"
   ]
  },
  {
   "cell_type": "markdown",
   "id": "f86f9aed",
   "metadata": {},
   "source": [
    "### Test1"
   ]
  },
  {
   "cell_type": "code",
   "execution_count": 294,
   "metadata": {},
   "outputs": [
    {
     "name": "stdout",
     "output_type": "stream",
     "text": [
      "cost:1\n",
      "cost:2\n",
      "cost:3\n",
      "cost:4\n",
      "cost:5\n",
      "cost:6\n",
      "cost:7\n",
      "time:0.0030002593994140625\n",
      "PATH::\n",
      "5 <==  3 <==  2 <==  3 <==  4 <==  3 <==  2 <==  1 \n",
      "cost:7,\n",
      "states:17,\n"
     ]
    }
   ],
   "source": [
    "test(g1 , a_star)"
   ]
  }
 ],
 "metadata": {
  "kernelspec": {
   "display_name": "Python 3 (ipykernel)",
   "language": "python",
   "name": "python3"
  },
  "language_info": {
   "codemirror_mode": {
    "name": "ipython",
    "version": 3
   },
   "file_extension": ".py",
   "mimetype": "text/x-python",
   "name": "python",
   "nbconvert_exporter": "python",
   "pygments_lexer": "ipython3",
   "version": "3.11.2"
  }
 },
 "nbformat": 4,
 "nbformat_minor": 5
}
