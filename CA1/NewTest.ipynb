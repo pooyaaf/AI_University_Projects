{
 "cells": [
  {
   "attachments": {},
   "cell_type": "markdown",
   "metadata": {},
   "source": [
    "<center style><h3>Computer Assignment 1</h3></center>\n",
    "<center style><h4>Informed and Uninformed Search</h4></center>\n",
    " <h4 style=\"text-align:right\">\n",
    "        محمد پویا افشاری - 810198577\n",
    "</h4>"
   ]
  },
  {
   "attachments": {},
   "cell_type": "markdown",
   "metadata": {},
   "source": [
    "Goals:\n",
    "*   Learning informed search algorithms (A*)\n",
    "*   Learning uninformed search algorithms (BFS, IDS)\n",
    "*   How to formulate problems (Abstraction)\n",
    "*   Pros and Cons of each algorithm"
   ]
  },
  {
   "cell_type": "code",
   "execution_count": 505,
   "metadata": {},
   "outputs": [],
   "source": [
    "BFS_PRINT_PATH = 0"
   ]
  },
  {
   "attachments": {},
   "cell_type": "markdown",
   "metadata": {},
   "source": [
    "## Importing Class:"
   ]
  },
  {
   "cell_type": "code",
   "execution_count": 506,
   "metadata": {},
   "outputs": [
    {
     "name": "stdout",
     "output_type": "stream",
     "text": [
      "Requirement already satisfied: numpy in c:\\users\\user\\appdata\\local\\packages\\pythonsoftwarefoundation.python.3.11_qbz5n2kfra8p0\\localcache\\local-packages\\python311\\site-packages (1.24.2)\n"
     ]
    },
    {
     "name": "stderr",
     "output_type": "stream",
     "text": [
      "\n",
      "[notice] A new release of pip available: 22.3.1 -> 23.0.1\n",
      "[notice] To update, run: C:\\Users\\user\\AppData\\Local\\Microsoft\\WindowsApps\\PythonSoftwareFoundation.Python.3.11_qbz5n2kfra8p0\\python.exe -m pip install --upgrade pip\n"
     ]
    }
   ],
   "source": [
    "import copy\n",
    "from collections import Counter\n",
    "from queue import Queue\n",
    "import time\n",
    "from typing import List\n",
    "!pip install numpy\n",
    "import numpy as np\n"
   ]
  },
  {
   "attachments": {},
   "cell_type": "markdown",
   "metadata": {},
   "source": [
    "## Class State:"
   ]
  },
  {
   "cell_type": "code",
   "execution_count": 507,
   "metadata": {},
   "outputs": [],
   "source": [
    "class State:\n",
    "    def __init__(self,edge_remain_cost) -> None:\n",
    "        self.position = 0\n",
    "        self.prev_state = None\n",
    "        self.students_seen = []\n",
    "        self.pizza_seen = []\n",
    "        self.edge_remain_cost = dict.fromkeys(edge_remain_cost, 0)\n",
    "        #self.loose_edges = dict.fromkeys(loose_edges, 0)\n",
    "        #self.loose_remain = 0\n",
    "        #self.loose_edges = loose_edges\n",
    "       # self.loose_remain = 0\n",
    "        #self.delivered = delivered\n",
    "        self.cost = 0\n",
    "\n",
    "    def __members(self):\n",
    "        return (self.position, self.students_seen, self.pizza_seen,self.edge_remain_cost)\n",
    "\n",
    "\n",
    "    def __eq__(self, other):\n",
    "        if type(other) is type(self):\n",
    "            return self.__members() == other.__members()\n",
    "        return False\n",
    "\n",
    "    def __hash__(self):\n",
    "        return hash(f\"{self.position},{self.students_seen},{self.pizza_seen},{self.cost}\")\n",
    "\n",
    "    def __str__(self) -> str:\n",
    "        return f\"\\n cost:{self.cost}, \\\n",
    "                 \\n position{self.position + 1} \\\n",
    "                 \\n student:{[x+1 for x in self.students_seen]} \\\n",
    "                 \\n pizza:{[x+1 for x in self.pizza_seen]}\\\n",
    "                  \\n\\n\"  \n",
    "    \n",
    "    def is_order_satisfied(self, order):\n",
    "        for left_student, right_student in order:\n",
    "            if left_student in self.students_seen and right_student not in self.students_seen:\n",
    "                continue\n",
    "            if left_student not in self.students_seen and right_student in self.students_seen:\n",
    "                return False\n",
    "            if right_student in self.students_seen and left_student in self.students_seen and  self.students_seen.index(right_student) < self.students_seen.index(left_student):\n",
    "                # if right student was seen before left student, return False\n",
    "                return False\n",
    "        return True\n"
   ]
  },
  {
   "attachments": {},
   "cell_type": "markdown",
   "metadata": {},
   "source": [
    "## Class Graph"
   ]
  },
  {
   "cell_type": "code",
   "execution_count": 508,
   "metadata": {},
   "outputs": [],
   "source": [
    "class Graph:\n",
    "    def __init__(self, v :int) -> None:\n",
    "        self.v = v # number of vertices\n",
    "        self.edges = [[] for _ in range(v)] #adj list\n",
    "        self.student_pizza_pairs = {} # dictionary to store student-pizza pairs\n",
    "        self.pizza = []\n",
    "        self.students = []\n",
    "        self.start_position = 0\n",
    "        self.loose_edge = []\n",
    "        self.order = []\n",
    "        self.edgeList = []\n",
    "        self.edge_remain_cost = []\n",
    "        \n",
    "    def add_edge(self, u :int, v :int) -> None:\n",
    "        self.edges[u].append(v)\n",
    "        self.edges[v].append(u)\n",
    "\n",
    "    def is_loose_edge(self, u: int, v: int) -> bool:\n",
    "        if ((u,v) in self.loose_edge or (v,u) in self.loose_edge) :\n",
    "            return True\n",
    "\n",
    "    def is_pizza(self, node :int) -> bool:\n",
    "        return (node in self.pizza)\n",
    "\n",
    "    def is_student(self, node :int) -> bool:\n",
    "        return (node in self.student_pizza_pairs.keys())\n",
    "\n",
    "    def get_neighbors(self, s :State):\n",
    "        return self.edges[s.position]\n",
    "    \n",
    "    def add_student_pizza_pair(self, student_place: int, pizza_node: int) -> None:\n",
    "        self.student_pizza_pairs[student_place] = pizza_node\n"
   ]
  },
  {
   "attachments": {},
   "cell_type": "markdown",
   "metadata": {},
   "source": [
    "## parsing Input:"
   ]
  },
  {
   "cell_type": "code",
   "execution_count": 509,
   "metadata": {},
   "outputs": [],
   "source": [
    "def create_graph(path :str) -> Graph:\n",
    "    file = open(path, \"r\")\n",
    "    n, m = map(int, file.readline().split(\" \"))\n",
    "    g = Graph(n)\n",
    "    for _ in range(m):\n",
    "        u, v = map(int, file.readline().split(\" \"))\n",
    "       # edge = tuple(u,v)\n",
    "        g.edgeList.append((u-1,v-1))\n",
    "        g.add_edge(u -1, v -1)\n",
    "\n",
    "    num_loose_edges = int(file.readline().strip())\n",
    "    loose_edges = {}\n",
    "    for _ in range(num_loose_edges):\n",
    "        edge, time = map(int, file.readline().strip().split())\n",
    "        if edge not in loose_edges:\n",
    "            #loose_edges[edge-1]=time\n",
    "            loose_edges[g.edgeList[edge-1]] = time\n",
    "\n",
    "    g.loose_edge = loose_edges\n",
    "    g.start_position = (int(file.readline())-1)\n",
    "    # Create the edge_remain_cost list\n",
    "    g.edge_remain_cost = {(u, v) for u, v in g.edgeList}\n",
    "    \n",
    "    num_students = int(file.readline().strip())\n",
    "    # create a dictionary to map each student to their index in the graph's students list\n",
    "    student_dict = {}\n",
    "    for _ in range(num_students):\n",
    "        student_place, pizza_node = map(int, file.readline().strip().split() )\n",
    "        student_place = student_place -1\n",
    "        pizza_node = pizza_node -1\n",
    "        student_dict[_] = student_place\n",
    "        g.add_student_pizza_pair(student_place, pizza_node)\n",
    "        g.pizza.append(pizza_node)\n",
    "        g.students.append(student_place)\n",
    "\n",
    "    t = int(file.readline().strip())\n",
    "    delivery_order = []\n",
    "    for _ in range(t):\n",
    "        a,b = map(int, file.readline().strip().split())\n",
    "        a -= 1\n",
    "        b -= 1\n",
    "\n",
    "        if a in student_dict and b in student_dict:\n",
    "            delivery_order.append((student_dict[a], student_dict[b]))\n",
    "    g.order = delivery_order\n",
    "    return g\n"
   ]
  },
  {
   "cell_type": "code",
   "execution_count": 510,
   "metadata": {},
   "outputs": [],
   "source": [
    "g1 = create_graph(\"Test4.txt\")\n",
    "#g2 = create_graph(\"Test4.txt\")\n",
    "#g3 = create_graph(\"Test1.txt\")\n",
    "#g4 = create_graph(\"Test2.txt\")\n",
    "#g5 = create_graph(\"Test3.txt\")"
   ]
  },
  {
   "cell_type": "code",
   "execution_count": 511,
   "metadata": {},
   "outputs": [
    {
     "name": "stdout",
     "output_type": "stream",
     "text": [
      "v: 5,student_pizza_pairs:{3: 2, 4: 1},edges:[[1], [0, 2], [1, 3, 4], [2], [2]],student:[3, 4],pizza:[2, 1],start_position:0,order:[(3, 4)],loose_edge:{(2, 3): 2, (2, 4): 3},edgeList:[(0, 1), (1, 2), (2, 3), (2, 4)],edge_remain_cost:{(0, 1), (2, 4), (1, 2), (2, 3)}\n"
     ]
    }
   ],
   "source": [
    "print(\"v: {},student_pizza_pairs:{},edges:{},student:{},pizza:{},start_position:{},order:{},loose_edge:{},edgeList:{},edge_remain_cost:{}\".format(g1.v,g1.student_pizza_pairs,g1.edges,g1.students,g1.pizza,g1.start_position,g1.order,g1.loose_edge,g1.edgeList,g1.edge_remain_cost))\n"
   ]
  },
  {
   "attachments": {},
   "cell_type": "markdown",
   "metadata": {},
   "source": [
    "## Search Modules:\n"
   ]
  },
  {
   "attachments": {},
   "cell_type": "markdown",
   "metadata": {},
   "source": [
    "- Initial State:\n",
    "\n",
    "create_initial_state function creates initial state which is the position which we start searching\n",
    "\n",
    "note that there is a diffrence between states and nodes in graph that we whatch. we may be in same node but have diffrent states...\n",
    "\n",
    "- Transition Modue:\n",
    "\n",
    "transition(s :State, g :Graph, p :int) -> State function\n",
    "gets one state and returns next-state\n",
    "\n",
    "- Goal State:\n",
    "\n",
    "The goal of the delivery driver is to deliver pizzas to all the students in the graph.\n",
    "\n",
    "The reached_goal function checks if the number of students who have received their pizzas is equal to the total number of students in the graph. If this condition is true, it means that all the students have received their pizzas, and the driver has reached the goal.\n",
    "    "
   ]
  },
  {
   "attachments": {},
   "cell_type": "markdown",
   "metadata": {},
   "source": [
    "## Initial state"
   ]
  },
  {
   "cell_type": "code",
   "execution_count": 512,
   "metadata": {},
   "outputs": [
    {
     "name": "stdout",
     "output_type": "stream",
     "text": [
      "{(0, 1): 0, (2, 4): 0, (1, 2): 0, (2, 3): 0}\n"
     ]
    }
   ],
   "source": [
    "def create_initial_state(g :Graph) -> State:\n",
    "    s = State(g.edge_remain_cost)\n",
    "    print(s.edge_remain_cost)\n",
    "    s.position = g.start_position\n",
    "    if s.position in g.pizza:\n",
    "        s.pizza_seen.append(g.start_position)\n",
    "    return s\n",
    "\n",
    "initial_state1 = create_initial_state(g1)"
   ]
  },
  {
   "attachments": {},
   "cell_type": "markdown",
   "metadata": {},
   "source": [
    "## Transition module and goal state implementation:\n"
   ]
  },
  {
   "cell_type": "code",
   "execution_count": 513,
   "metadata": {},
   "outputs": [],
   "source": [
    "counter = 0\n",
    "\n",
    "def reached_goal(s :State, g :Graph) -> bool:\n",
    "    return len(g.students) == len(s.students_seen)\n",
    "\n",
    "\n",
    "def transition(s: State, g: Graph, p: int) -> State:\n",
    "    global counter\n",
    "    counter += 1\n",
    "    next_state = copy.deepcopy(s)\n",
    "    next_state.prev_state = s\n",
    "    next_state.cost += 1\n",
    "    \n",
    "\n",
    "\n",
    "    next_state.position = p\n",
    "    #check loose_edge:\n",
    "    if(next_state.edge_remain_cost.get((s.position,p),0) > 0 or next_state.edge_remain_cost.get((p,s.position),0) > 0 ):\n",
    "        next_state.position = s\n",
    "    if(((s.position,p) in g.loose_edge or (p,s.position) in g.loose_edge )and(next_state.edge_remain_cost.get((s.position,p),0) == 0 or next_state.edge_remain_cost.get((p,s.position),0) == 0)):\n",
    "        next_state.edge_remain_cost= g.loose_edge.get((s.position,p))   \n",
    "    #\n",
    "    if(next_state.edge_remain_cost.get((s.position,p),0) == 0 or next_state.edge_remain_cost.get((p,s.position),0) == 0):\n",
    "        #if g.is_loose_edge(s,p):\n",
    "        #    next_state.loose_remain = next_state.loose_remain[p]\n",
    "        #    next_state.loose_edges[p] += 1\n",
    "        if g.is_pizza(p) and p not in s.pizza_seen:\n",
    "            if(len(s.pizza_seen) == 0):\n",
    "                next_state.pizza_seen.append(p)\n",
    "        if g.is_student(p) and p not in s.students_seen:\n",
    "            # check if the pizza that the student wants is the pizza that it currently sees\n",
    "            for student, pizza in g.student_pizza_pairs.items():\n",
    "                print(\"s:{},p: {},pizzas:{},student:{},pizza_seen:{},students_seen:{}\".format(s,p,pizza,student,s.pizza_seen,s.students_seen))\n",
    "                if pizza in s.pizza_seen and student == p:\n",
    "                    next_state.students_seen.append(p)\n",
    "                    next_state.pizza_seen.remove(pizza)\n",
    "                    break\n",
    "    #decrease every remain cost > 0 by 1\n",
    "    for edge, cost in next_state.edge_remain_cost.items():\n",
    "        if cost > 0:\n",
    "            next_state.edge_remain_cost[edge] = cost - 1\n",
    "\n",
    "    return next_state\n",
    "\n",
    "\n"
   ]
  },
  {
   "attachments": {},
   "cell_type": "markdown",
   "metadata": {},
   "source": [
    "## Print_path function:\n",
    "to print path after finding it!"
   ]
  },
  {
   "cell_type": "code",
   "execution_count": 514,
   "metadata": {},
   "outputs": [],
   "source": [
    "def print_path(final_state : State) -> None:\n",
    "    print(\"PATH::\")\n",
    "    s = final_state\n",
    "    while True:\n",
    "        print(f\"{s.position + 1} <== \", end = \" \")\n",
    "        s = s.prev_state\n",
    "        if s.prev_state == None: #s is first node\n",
    "            print(f\"{s.position + 1} \")\n",
    "            break\n",
    "         "
   ]
  },
  {
   "attachments": {},
   "cell_type": "markdown",
   "metadata": {},
   "source": [
    "## Test function:\n"
   ]
  },
  {
   "cell_type": "code",
   "execution_count": 515,
   "metadata": {},
   "outputs": [],
   "source": [
    "def test(g :Graph, method) -> None:\n",
    "    global counter\n",
    "    counter = 0\n",
    "    start = time.time()\n",
    "    path = method(g, create_initial_state(g))\n",
    "    end = time.time()\n",
    "    print(f\"time:{end - start}\")\n",
    "    print_path(path)\n",
    "    print(f\"cost:{path.cost},\")\n",
    "    print(f\"states:{counter},\")"
   ]
  },
  {
   "attachments": {},
   "cell_type": "markdown",
   "metadata": {},
   "source": [
    "# BFS:"
   ]
  },
  {
   "attachments": {},
   "cell_type": "markdown",
   "metadata": {},
   "source": [
    "BFS (Breath First Search) is an uninformed search algorithms witch will check all possible actions to find the answer.It is a simple algorithm that starts at the root node and explores all the neighboring nodes at the present depth level before moving on to the next level. It uses a queue data structure to keep track of the nodes to be explored.\n",
    "\n",
    "This algorithm is very memory hungry and relatively slow.\n",
    "\n",
    "We use a queue.in each turn, we dequeue from state and enqueue all succssors to queue until reaching goal state. becasu all path costs are same (1), we can get optimal soloution.\n",
    "\n",
    "Pros:\n",
    "* Completeness: BFS is complete, which means it can always find a solution if one exists\n",
    "* Optimal solution: if the path cost is uniform, BFS guarantees to find the shortest path to the goal.\n",
    "* Simple to understand and implement.\n",
    "\n",
    "Cons:\n",
    "* Memory-intensive: the amount of memory required can be quite large, especially for a graph with many nodes.\n",
    "* Time-intensive: BFS may take a long time to find a solution, especially if the solution is deep.\n",
    "\n"
   ]
  },
  {
   "cell_type": "code",
   "execution_count": 516,
   "metadata": {},
   "outputs": [],
   "source": [
    "def bfs(g :Graph, initial_state :State) -> State:\n",
    "    q = []\n",
    "    q.append(initial_state)\n",
    "    explored = {initial_state, }\n",
    "    cost = 0\n",
    "    while 1:\n",
    "        state = q.pop(0)\n",
    "        #for test\n",
    "        if state.cost > cost:\n",
    "            cost = state.cost\n",
    "            print(f\"cost:{cost}\")\n",
    "\n",
    "        for neighbor in g.get_neighbors(state):\n",
    "            t = transition(state, g, neighbor)\n",
    "            if t not in explored:\n",
    "                if reached_goal(t, g):\n",
    "                    return t\n",
    "                q.append(t)\n",
    "                explored.add(t)"
   ]
  },
  {
   "attachments": {},
   "cell_type": "markdown",
   "metadata": {},
   "source": [
    "## BFS Test:"
   ]
  },
  {
   "cell_type": "markdown",
   "metadata": {},
   "source": [
    "Test1:"
   ]
  },
  {
   "cell_type": "code",
   "execution_count": 517,
   "metadata": {},
   "outputs": [
    {
     "name": "stdout",
     "output_type": "stream",
     "text": [
      "{(0, 1): 0, (2, 4): 0, (1, 2): 0, (2, 3): 0}\n",
      "cost:1\n",
      "cost:2\n"
     ]
    },
    {
     "ename": "TypeError",
     "evalue": "'dict' object is not callable",
     "output_type": "error",
     "traceback": [
      "\u001b[1;31m---------------------------------------------------------------------------\u001b[0m",
      "\u001b[1;31mTypeError\u001b[0m                                 Traceback (most recent call last)",
      "Cell \u001b[1;32mIn[517], line 1\u001b[0m\n\u001b[1;32m----> 1\u001b[0m test(g1, bfs)\n",
      "Cell \u001b[1;32mIn[515], line 5\u001b[0m, in \u001b[0;36mtest\u001b[1;34m(g, method)\u001b[0m\n\u001b[0;32m      3\u001b[0m counter \u001b[39m=\u001b[39m \u001b[39m0\u001b[39m\n\u001b[0;32m      4\u001b[0m start \u001b[39m=\u001b[39m time\u001b[39m.\u001b[39mtime()\n\u001b[1;32m----> 5\u001b[0m path \u001b[39m=\u001b[39m method(g, create_initial_state(g))\n\u001b[0;32m      6\u001b[0m end \u001b[39m=\u001b[39m time\u001b[39m.\u001b[39mtime()\n\u001b[0;32m      7\u001b[0m \u001b[39mprint\u001b[39m(\u001b[39mf\u001b[39m\u001b[39m\"\u001b[39m\u001b[39mtime:\u001b[39m\u001b[39m{\u001b[39;00mend\u001b[39m \u001b[39m\u001b[39m-\u001b[39m\u001b[39m \u001b[39mstart\u001b[39m}\u001b[39;00m\u001b[39m\"\u001b[39m)\n",
      "Cell \u001b[1;32mIn[516], line 14\u001b[0m, in \u001b[0;36mbfs\u001b[1;34m(g, initial_state)\u001b[0m\n\u001b[0;32m     11\u001b[0m     \u001b[39mprint\u001b[39m(\u001b[39mf\u001b[39m\u001b[39m\"\u001b[39m\u001b[39mcost:\u001b[39m\u001b[39m{\u001b[39;00mcost\u001b[39m}\u001b[39;00m\u001b[39m\"\u001b[39m)\n\u001b[0;32m     13\u001b[0m \u001b[39mfor\u001b[39;00m neighbor \u001b[39min\u001b[39;00m g\u001b[39m.\u001b[39mget_neighbors(state):\n\u001b[1;32m---> 14\u001b[0m     t \u001b[39m=\u001b[39m transition(state, g, neighbor)\n\u001b[0;32m     15\u001b[0m     \u001b[39mif\u001b[39;00m t \u001b[39mnot\u001b[39;00m \u001b[39min\u001b[39;00m explored:\n\u001b[0;32m     16\u001b[0m         \u001b[39mif\u001b[39;00m reached_goal(t, g):\n",
      "Cell \u001b[1;32mIn[513], line 21\u001b[0m, in \u001b[0;36mtransition\u001b[1;34m(s, g, p)\u001b[0m\n\u001b[0;32m     19\u001b[0m     next_state\u001b[39m.\u001b[39mposition \u001b[39m=\u001b[39m s\n\u001b[0;32m     20\u001b[0m \u001b[39mif\u001b[39;00m(((s\u001b[39m.\u001b[39mposition,p) \u001b[39min\u001b[39;00m g\u001b[39m.\u001b[39mloose_edge \u001b[39mor\u001b[39;00m (p,s\u001b[39m.\u001b[39mposition) \u001b[39min\u001b[39;00m g\u001b[39m.\u001b[39mloose_edge )\u001b[39mand\u001b[39;00m(next_state\u001b[39m.\u001b[39medge_remain_cost\u001b[39m.\u001b[39mget((s\u001b[39m.\u001b[39mposition,p),\u001b[39m0\u001b[39m) \u001b[39m==\u001b[39m \u001b[39m0\u001b[39m \u001b[39mor\u001b[39;00m next_state\u001b[39m.\u001b[39medge_remain_cost\u001b[39m.\u001b[39mget((p,s\u001b[39m.\u001b[39mposition),\u001b[39m0\u001b[39m) \u001b[39m==\u001b[39m \u001b[39m0\u001b[39m)):\n\u001b[1;32m---> 21\u001b[0m     next_state\u001b[39m.\u001b[39medge_remain_cost\u001b[39m=\u001b[39m g\u001b[39m.\u001b[39;49mloose_edge(s\u001b[39m.\u001b[39;49mposition,p)   \n\u001b[0;32m     22\u001b[0m \u001b[39m#\u001b[39;00m\n\u001b[0;32m     23\u001b[0m \u001b[39mif\u001b[39;00m(next_state\u001b[39m.\u001b[39medge_remain_cost\u001b[39m.\u001b[39mget((s\u001b[39m.\u001b[39mposition,p),\u001b[39m0\u001b[39m) \u001b[39m==\u001b[39m \u001b[39m0\u001b[39m \u001b[39mor\u001b[39;00m next_state\u001b[39m.\u001b[39medge_remain_cost\u001b[39m.\u001b[39mget((p,s\u001b[39m.\u001b[39mposition),\u001b[39m0\u001b[39m) \u001b[39m==\u001b[39m \u001b[39m0\u001b[39m):\n\u001b[0;32m     24\u001b[0m     \u001b[39m#if g.is_loose_edge(s,p):\u001b[39;00m\n\u001b[0;32m     25\u001b[0m     \u001b[39m#    next_state.loose_remain = next_state.loose_remain[p]\u001b[39;00m\n\u001b[0;32m     26\u001b[0m     \u001b[39m#    next_state.loose_edges[p] += 1\u001b[39;00m\n",
      "\u001b[1;31mTypeError\u001b[0m: 'dict' object is not callable"
     ]
    }
   ],
   "source": [
    "test(g1, bfs)"
   ]
  },
  {
   "attachments": {},
   "cell_type": "markdown",
   "metadata": {},
   "source": [
    "# IDS:\n",
    "We use dfs with height 0,1,2,3,... til we reach goal state.\n",
    "\n",
    "This algorithms runs DFS on increasing depth limit until find the goal state. So it solves completeness problem of DFS if may DFS faces loop and never get to the goal.\n",
    "\n",
    "Pros:\n",
    "\n",
    "* Complete: IDS is complete, which means it can always find a solution if one exists.\n",
    "* Memory-efficient: IDS uses less memory than BFS because it only keeps track of nodes within the current depth limit.\n",
    "* Time-efficient: IDS is more time-efficient than BFS because it avoids exploring paths that are too deep.\n",
    "(two last are true if and only if we can have good imagination of height which we might find and reach the goal)\n",
    "\n",
    "Cons:\n",
    "\n",
    "* Not always optimal: IDS may not always find the shortest path to the goal.\n",
    "* Can be slow: IDS may still take a long time to find a solution if the search space is large."
   ]
  },
  {
   "attachments": {},
   "cell_type": "markdown",
   "metadata": {},
   "source": [
    "## IDS implementation:"
   ]
  },
  {
   "cell_type": "code",
   "execution_count": null,
   "metadata": {},
   "outputs": [],
   "source": [
    "def dfs(state :State, step :int, g :Graph):\n",
    "    if reached_goal(state, g):\n",
    "        return state\n",
    "    if step == 0:\n",
    "        return None\n",
    "\n",
    "    for neighbor in g.get_neighbors(state):\n",
    "        next_state = transition(state, g, neighbor)\n",
    "        result = dfs(next_state, step - 1, g)\n",
    "        if result != None:\n",
    "            return result\n",
    "    return None\n",
    "\n",
    "h = 0\n",
    "def ids(g:Graph, initial_state :State) -> State:\n",
    "    global h\n",
    "    while True:\n",
    "        h += 1\n",
    "        print(f\"h:{h}\")\n",
    "\n",
    "        result = dfs(initial_state, h, g)\n",
    "        if result != None:\n",
    "            return result\n",
    "        print(f\"cant find in h:{h}\")"
   ]
  },
  {
   "attachments": {},
   "cell_type": "markdown",
   "metadata": {},
   "source": [
    "## IDS Tests:"
   ]
  },
  {
   "cell_type": "code",
   "execution_count": null,
   "metadata": {},
   "outputs": [
    {
     "name": "stdout",
     "output_type": "stream",
     "text": [
      "{(0, 1): 0, (1, 2): 0, (2, 3): 0, (2, 4): 0}\n",
      "h:1\n",
      "cant find in h:1\n",
      "h:2\n",
      "cant find in h:2\n",
      "h:3\n",
      "s:\n",
      " cost:2,                  \n",
      " position3                  \n",
      " student:[]                  \n",
      " pizza:[2]                  \n",
      "\n",
      ",p: 3,pizzas:2,student:3,pizza_seen:[1],students_seen:[]\n",
      "s:\n",
      " cost:2,                  \n",
      " position3                  \n",
      " student:[]                  \n",
      " pizza:[2]                  \n",
      "\n",
      ",p: 3,pizzas:1,student:4,pizza_seen:[1],students_seen:[]\n",
      "s:\n",
      " cost:2,                  \n",
      " position3                  \n",
      " student:[]                  \n",
      " pizza:[2]                  \n",
      "\n",
      ",p: 4,pizzas:2,student:3,pizza_seen:[1],students_seen:[]\n",
      "s:\n",
      " cost:2,                  \n",
      " position3                  \n",
      " student:[]                  \n",
      " pizza:[2]                  \n",
      "\n",
      ",p: 4,pizzas:1,student:4,pizza_seen:[1],students_seen:[]\n",
      "cant find in h:3\n",
      "h:4\n",
      "s:\n",
      " cost:2,                  \n",
      " position3                  \n",
      " student:[]                  \n",
      " pizza:[2]                  \n",
      "\n",
      ",p: 3,pizzas:2,student:3,pizza_seen:[1],students_seen:[]\n",
      "s:\n",
      " cost:2,                  \n",
      " position3                  \n",
      " student:[]                  \n",
      " pizza:[2]                  \n",
      "\n",
      ",p: 3,pizzas:1,student:4,pizza_seen:[1],students_seen:[]\n",
      "s:\n",
      " cost:2,                  \n",
      " position3                  \n",
      " student:[]                  \n",
      " pizza:[2]                  \n",
      "\n",
      ",p: 4,pizzas:2,student:3,pizza_seen:[1],students_seen:[]\n",
      "s:\n",
      " cost:2,                  \n",
      " position3                  \n",
      " student:[]                  \n",
      " pizza:[2]                  \n",
      "\n",
      ",p: 4,pizzas:1,student:4,pizza_seen:[1],students_seen:[]\n",
      "cant find in h:4\n",
      "h:5\n",
      "s:\n",
      " cost:4,                  \n",
      " position3                  \n",
      " student:[]                  \n",
      " pizza:[2]                  \n",
      "\n",
      ",p: 3,pizzas:2,student:3,pizza_seen:[1],students_seen:[]\n",
      "s:\n",
      " cost:4,                  \n",
      " position3                  \n",
      " student:[]                  \n",
      " pizza:[2]                  \n",
      "\n",
      ",p: 3,pizzas:1,student:4,pizza_seen:[1],students_seen:[]\n",
      "s:\n",
      " cost:4,                  \n",
      " position3                  \n",
      " student:[]                  \n",
      " pizza:[2]                  \n",
      "\n",
      ",p: 4,pizzas:2,student:3,pizza_seen:[1],students_seen:[]\n",
      "s:\n",
      " cost:4,                  \n",
      " position3                  \n",
      " student:[]                  \n",
      " pizza:[2]                  \n",
      "\n",
      ",p: 4,pizzas:1,student:4,pizza_seen:[1],students_seen:[]\n",
      "s:\n",
      " cost:4,                  \n",
      " position3                  \n",
      " student:[]                  \n",
      " pizza:[2]                  \n",
      "\n",
      ",p: 3,pizzas:2,student:3,pizza_seen:[1],students_seen:[]\n",
      "s:\n",
      " cost:4,                  \n",
      " position3                  \n",
      " student:[]                  \n",
      " pizza:[2]                  \n",
      "\n",
      ",p: 3,pizzas:1,student:4,pizza_seen:[1],students_seen:[]\n",
      "s:\n",
      " cost:4,                  \n",
      " position3                  \n",
      " student:[]                  \n",
      " pizza:[2]                  \n",
      "\n",
      ",p: 4,pizzas:2,student:3,pizza_seen:[1],students_seen:[]\n",
      "s:\n",
      " cost:4,                  \n",
      " position3                  \n",
      " student:[]                  \n",
      " pizza:[2]                  \n",
      "\n",
      ",p: 4,pizzas:1,student:4,pizza_seen:[1],students_seen:[]\n",
      "s:\n",
      " cost:2,                  \n",
      " position3                  \n",
      " student:[]                  \n",
      " pizza:[2]                  \n",
      "\n",
      ",p: 3,pizzas:2,student:3,pizza_seen:[1],students_seen:[]\n",
      "s:\n",
      " cost:2,                  \n",
      " position3                  \n",
      " student:[]                  \n",
      " pizza:[2]                  \n",
      "\n",
      ",p: 3,pizzas:1,student:4,pizza_seen:[1],students_seen:[]\n",
      "s:\n",
      " cost:4,                  \n",
      " position3                  \n",
      " student:[]                  \n",
      " pizza:[2]                  \n",
      "\n",
      ",p: 3,pizzas:2,student:3,pizza_seen:[1],students_seen:[]\n",
      "s:\n",
      " cost:4,                  \n",
      " position3                  \n",
      " student:[]                  \n",
      " pizza:[2]                  \n",
      "\n",
      ",p: 3,pizzas:1,student:4,pizza_seen:[1],students_seen:[]\n",
      "s:\n",
      " cost:4,                  \n",
      " position3                  \n",
      " student:[]                  \n",
      " pizza:[2]                  \n",
      "\n",
      ",p: 4,pizzas:2,student:3,pizza_seen:[1],students_seen:[]\n",
      "s:\n",
      " cost:4,                  \n",
      " position3                  \n",
      " student:[]                  \n",
      " pizza:[2]                  \n",
      "\n",
      ",p: 4,pizzas:1,student:4,pizza_seen:[1],students_seen:[]\n",
      "s:\n",
      " cost:2,                  \n",
      " position3                  \n",
      " student:[]                  \n",
      " pizza:[2]                  \n",
      "\n",
      ",p: 4,pizzas:2,student:3,pizza_seen:[1],students_seen:[]\n",
      "s:\n",
      " cost:2,                  \n",
      " position3                  \n",
      " student:[]                  \n",
      " pizza:[2]                  \n",
      "\n",
      ",p: 4,pizzas:1,student:4,pizza_seen:[1],students_seen:[]\n",
      "s:\n",
      " cost:4,                  \n",
      " position3                  \n",
      " student:[5]                  \n",
      " pizza:[3]                  \n",
      "\n",
      ",p: 3,pizzas:2,student:3,pizza_seen:[2],students_seen:[4]\n",
      "time:0.006453037261962891\n",
      "PATH::\n",
      "4 <==  3 <==  5 <==  3 <==  2 <==  1 \n",
      "cost:5,\n",
      "states:50,\n"
     ]
    }
   ],
   "source": [
    "h = 0\n",
    "test(g1, ids)"
   ]
  },
  {
   "attachments": {},
   "cell_type": "markdown",
   "metadata": {},
   "source": [
    "# ASTAR:"
   ]
  },
  {
   "attachments": {},
   "cell_type": "markdown",
   "metadata": {},
   "source": [
    "## A-Star search: "
   ]
  },
  {
   "attachments": {},
   "cell_type": "markdown",
   "metadata": {},
   "source": [
    "Because number of studemts getting fed in any pass from initial state to goal state is consecutively non-decreasing. The heuristic would be consistant.\n",
    "\n",
    "So we choose -len(s.student_seen) as our consistent huristic."
   ]
  },
  {
   "attachments": {},
   "cell_type": "markdown",
   "metadata": {},
   "source": [
    "## A-Star Implementation:"
   ]
  },
  {
   "attachments": {},
   "cell_type": "markdown",
   "metadata": {},
   "source": [
    "A* (A-star) is a more complex algorithm that combines both BFS and heuristic functions to guide the search towards the goal. A* evaluates nodes based on both the path cost so far and an estimate of the remaining cost to the goal. The estimate is usually given by a heuristic function that approximates the distance from the current node to the goal.\n",
    "\n",
    "Pros:\n",
    "\n",
    "* Optimality: A* is optimal if the heuristic function is admissible, which means it never overestimates the actual cost to the goal.\n",
    "* Time-efficient: A* can be much faster than BFS or IDS because it uses heuristics to guide the search.\n",
    "* Memory-efficient: A* uses less memory than BFS because it only keeps track of nodes on the current path.\n",
    "\n",
    "Cons:\n",
    "\n",
    "* Completeness: A* is not guaranteed to be complete, especially if the heuristic function is not admissible.\n",
    "* Heuristic function: A* requires a good heuristic function to be effective, and designing a good heuristic function can be challenging.\n",
    "* Implementation complexity: A* is more complex to implement than BFS or IDS.\n",
    "\n",
    "we have two lists, explored and frountier.\n",
    "\n",
    "we choose state s with minimum f(s) = h(s) + cost(s) from frontier and explore its successors.\n",
    "    next_state = min(frountier, key = lambda s : huristic(s) + s.cost) \n",
    "\n",
    "and we remember explored states to make sure not to rewatch them.\n",
    "\n",
    "it will give us optimal soloution if we make sure our huristic is consistent."
   ]
  },
  {
   "cell_type": "code",
   "execution_count": null,
   "metadata": {},
   "outputs": [],
   "source": [
    "alpha = 1\n",
    "\n",
    "def huristic(s :State) -> int:\n",
    "    global alpha\n",
    "    return -len(s.students_seen) * alpha\n",
    "\n",
    "def a_star(g:Graph, initial_state :State) -> State:\n",
    "    explored = []\n",
    "    frountier = [initial_state, ]\n",
    "    cost = 0\n",
    "\n",
    "    while True:\n",
    "        next_state = min(frountier, key = lambda s : huristic(s) + s.cost)\n",
    "        frountier.remove(next_state)\n",
    "        explored.append(next_state)\n",
    "\n",
    "        if next_state.cost > cost:\n",
    "            cost = next_state.cost\n",
    "            print(f\"cost:{cost}\")\n",
    "\n",
    "        if reached_goal(next_state, g):\n",
    "            return next_state\n",
    "        for neighbor in g.get_neighbors(next_state):\n",
    "            t = transition(next_state, g, neighbor)\n",
    "            if t not in explored and t not in frountier:\n",
    "                frountier.append(t)"
   ]
  },
  {
   "attachments": {},
   "cell_type": "markdown",
   "metadata": {},
   "source": [
    "## Test A-Star"
   ]
  },
  {
   "cell_type": "code",
   "execution_count": null,
   "metadata": {},
   "outputs": [],
   "source": [
    "alpha = 1"
   ]
  },
  {
   "attachments": {},
   "cell_type": "markdown",
   "metadata": {},
   "source": [
    "### Test1"
   ]
  },
  {
   "cell_type": "code",
   "execution_count": null,
   "metadata": {},
   "outputs": [
    {
     "name": "stdout",
     "output_type": "stream",
     "text": [
      "{(0, 1): 0, (1, 2): 0, (2, 3): 0, (2, 4): 0}\n",
      "cost:1\n",
      "cost:2\n",
      "s:\n",
      " cost:2,                  \n",
      " position3                  \n",
      " student:[]                  \n",
      " pizza:[2]                  \n",
      "\n",
      ",p: 3,pizzas:2,student:3,pizza_seen:[1],students_seen:[]\n",
      "s:\n",
      " cost:2,                  \n",
      " position3                  \n",
      " student:[]                  \n",
      " pizza:[2]                  \n",
      "\n",
      ",p: 3,pizzas:1,student:4,pizza_seen:[1],students_seen:[]\n",
      "s:\n",
      " cost:2,                  \n",
      " position3                  \n",
      " student:[]                  \n",
      " pizza:[2]                  \n",
      "\n",
      ",p: 4,pizzas:2,student:3,pizza_seen:[1],students_seen:[]\n",
      "s:\n",
      " cost:2,                  \n",
      " position3                  \n",
      " student:[]                  \n",
      " pizza:[2]                  \n",
      "\n",
      ",p: 4,pizzas:1,student:4,pizza_seen:[1],students_seen:[]\n",
      "cost:3\n",
      "cost:4\n",
      "s:\n",
      " cost:4,                  \n",
      " position3                  \n",
      " student:[5]                  \n",
      " pizza:[3]                  \n",
      "\n",
      ",p: 3,pizzas:2,student:3,pizza_seen:[2],students_seen:[4]\n",
      "cost:5\n",
      "time:0.0020041465759277344\n",
      "PATH::\n",
      "4 <==  3 <==  5 <==  3 <==  2 <==  1 \n",
      "cost:5,\n",
      "states:12,\n"
     ]
    }
   ],
   "source": [
    "test(g1 , a_star)"
   ]
  },
  {
   "attachments": {},
   "cell_type": "markdown",
   "metadata": {},
   "source": [
    "## Test Weighted A-Star1:\n",
    "* alpha = 5"
   ]
  },
  {
   "cell_type": "code",
   "execution_count": null,
   "metadata": {},
   "outputs": [],
   "source": [
    "alpha = 5"
   ]
  },
  {
   "attachments": {},
   "cell_type": "markdown",
   "metadata": {},
   "source": [
    "### Test1"
   ]
  },
  {
   "cell_type": "code",
   "execution_count": null,
   "metadata": {},
   "outputs": [
    {
     "name": "stdout",
     "output_type": "stream",
     "text": [
      "{(0, 1): 0, (1, 2): 0, (2, 3): 0, (2, 4): 0}\n",
      "cost:1\n",
      "cost:2\n",
      "s:\n",
      " cost:2,                  \n",
      " position3                  \n",
      " student:[]                  \n",
      " pizza:[2]                  \n",
      "\n",
      ",p: 3,pizzas:2,student:3,pizza_seen:[1],students_seen:[]\n",
      "s:\n",
      " cost:2,                  \n",
      " position3                  \n",
      " student:[]                  \n",
      " pizza:[2]                  \n",
      "\n",
      ",p: 3,pizzas:1,student:4,pizza_seen:[1],students_seen:[]\n",
      "s:\n",
      " cost:2,                  \n",
      " position3                  \n",
      " student:[]                  \n",
      " pizza:[2]                  \n",
      "\n",
      ",p: 4,pizzas:2,student:3,pizza_seen:[1],students_seen:[]\n",
      "s:\n",
      " cost:2,                  \n",
      " position3                  \n",
      " student:[]                  \n",
      " pizza:[2]                  \n",
      "\n",
      ",p: 4,pizzas:1,student:4,pizza_seen:[1],students_seen:[]\n",
      "cost:3\n",
      "cost:4\n",
      "s:\n",
      " cost:4,                  \n",
      " position3                  \n",
      " student:[5]                  \n",
      " pizza:[3]                  \n",
      "\n",
      ",p: 3,pizzas:2,student:3,pizza_seen:[2],students_seen:[4]\n",
      "cost:5\n",
      "time:0.0010018348693847656\n",
      "PATH::\n",
      "4 <==  3 <==  5 <==  3 <==  2 <==  1 \n",
      "cost:5,\n",
      "states:11,\n"
     ]
    }
   ],
   "source": [
    "test(g1 , a_star)"
   ]
  },
  {
   "attachments": {},
   "cell_type": "markdown",
   "metadata": {},
   "source": [
    "## Test Weighted A-Star2:\n",
    "* alpha = 10"
   ]
  },
  {
   "cell_type": "code",
   "execution_count": null,
   "metadata": {},
   "outputs": [],
   "source": [
    "alpha = 10"
   ]
  },
  {
   "attachments": {},
   "cell_type": "markdown",
   "metadata": {},
   "source": [
    "### Test1"
   ]
  },
  {
   "cell_type": "code",
   "execution_count": null,
   "metadata": {},
   "outputs": [
    {
     "name": "stdout",
     "output_type": "stream",
     "text": [
      "{(0, 1): 0, (1, 2): 0, (2, 3): 0, (2, 4): 0}\n",
      "cost:1\n",
      "cost:2\n",
      "s:\n",
      " cost:2,                  \n",
      " position3                  \n",
      " student:[]                  \n",
      " pizza:[2]                  \n",
      "\n",
      ",p: 3,pizzas:2,student:3,pizza_seen:[1],students_seen:[]\n",
      "s:\n",
      " cost:2,                  \n",
      " position3                  \n",
      " student:[]                  \n",
      " pizza:[2]                  \n",
      "\n",
      ",p: 3,pizzas:1,student:4,pizza_seen:[1],students_seen:[]\n",
      "s:\n",
      " cost:2,                  \n",
      " position3                  \n",
      " student:[]                  \n",
      " pizza:[2]                  \n",
      "\n",
      ",p: 4,pizzas:2,student:3,pizza_seen:[1],students_seen:[]\n",
      "s:\n",
      " cost:2,                  \n",
      " position3                  \n",
      " student:[]                  \n",
      " pizza:[2]                  \n",
      "\n",
      ",p: 4,pizzas:1,student:4,pizza_seen:[1],students_seen:[]\n",
      "cost:3\n",
      "cost:4\n",
      "s:\n",
      " cost:4,                  \n",
      " position3                  \n",
      " student:[5]                  \n",
      " pizza:[3]                  \n",
      "\n",
      ",p: 3,pizzas:2,student:3,pizza_seen:[2],students_seen:[4]\n",
      "cost:5\n",
      "time:0.002000093460083008\n",
      "PATH::\n",
      "4 <==  3 <==  5 <==  3 <==  2 <==  1 \n",
      "cost:5,\n",
      "states:11,\n"
     ]
    }
   ],
   "source": [
    "test(g1 , a_star)"
   ]
  }
 ],
 "metadata": {
  "kernelspec": {
   "display_name": "Python 3",
   "language": "python",
   "name": "python3"
  },
  "language_info": {
   "codemirror_mode": {
    "name": "ipython",
    "version": 3
   },
   "file_extension": ".py",
   "mimetype": "text/x-python",
   "name": "python",
   "nbconvert_exporter": "python",
   "pygments_lexer": "ipython3",
   "version": "3.11.2"
  },
  "orig_nbformat": 4
 },
 "nbformat": 4,
 "nbformat_minor": 2
}
