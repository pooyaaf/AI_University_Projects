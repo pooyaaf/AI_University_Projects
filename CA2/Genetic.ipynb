{
 "cells": [
  {
   "attachments": {},
   "cell_type": "markdown",
   "metadata": {},
   "source": [
    "<center style><h3>Computer Assignment 2</h3></center>\n",
    "<center style><h4>Genetics</h4></center>\n",
    " <h4 style=\"text-align:right\">\n",
    "        محمد پویا افشاری - 810198577\n",
    "</h4>"
   ]
  },
  {
   "attachments": {},
   "cell_type": "markdown",
   "metadata": {},
   "source": [
    "GA are a class of algorithms based on the abstraction of Darwin’s evolution of biological systems, pioneered by J. Holland and his collaborators in the 1960s and 1970s (Holland, 1975). GA use the genetic operators: crossover, mutation, and selection. Each solution is encoded as a string (often binary or decimal), called a chromosome. The crossover of two parent strings produces offspring (new solutions) by swapping parts or genes of the chromosomes. Crossover has a higher probability, typically 0.8-0.95.  This mutation probability is typically low, from 0.001 to 0.05.\n",
    "New solutions generated in each generation will be evaluated by their fitness that is linked to the objective function of the optimization problem. The new solutions are selected according to their fitness—selection of the fittest. Sometimes, in order to make sure that the best solutions remain in the population, the best solutions are passed on to the next generation without much change. This is called elitism."
   ]
  },
  {
   "cell_type": "code",
   "execution_count": 73,
   "metadata": {},
   "outputs": [],
   "source": [
    "import random\n",
    "import pandas as pd \n",
    "import numpy as np\n"
   ]
  },
  {
   "cell_type": "code",
   "execution_count": 74,
   "metadata": {},
   "outputs": [
    {
     "name": "stdout",
     "output_type": "stream",
     "text": [
      "   Unnamed: 0 ticker      risk    return\n",
      "0           0    LMB  0.665555  2.459677\n",
      "1           1  GECCM  0.011733  0.202107\n",
      "2           2   OXBR  0.810532  2.040541\n",
      "3           3   LIVE  0.630844  3.729542\n",
      "4           4   NVEE  0.330513  1.610970\n"
     ]
    }
   ],
   "source": [
    "# load data\n",
    "df = pd.read_csv('sample.csv')\n",
    "\n",
    "\n",
    "print(df.head())"
   ]
  },
  {
   "attachments": {},
   "cell_type": "markdown",
   "metadata": {},
   "source": [
    "* Gene: A gene in this case will represent the proportion of capital invested in a specific stock. Each gene will be a floating-point number between 0 and 1, where the sum of all genes in a chromosome will always equal 1.\n",
    "\n",
    "* Chromosome: A chromosome will represent a proposed solution to the problem of maximizing return while minimizing risk. Each chromosome will be a list of genes representing the proportion of capital invested in each stock.\n",
    "\n",
    "* Population: The population will be a list of chromosomes representing multiple proposed solutions to the problem. Each chromosome in the population will be randomly generated initially, and then evolved over multiple generations using genetic operators such as selection, crossover, and mutation."
   ]
  },
  {
   "attachments": {},
   "cell_type": "markdown",
   "metadata": {},
   "source": [
    "Mutation : This code first mutates a randomly selected gene in the chromosome by replacing it with a new gene. Then, it normalizes the chromosome by dividing each gene by the sum of all genes in the chromosome, if the sum is greater than 1. This ensures that the sum of genes in the chromosome is always less or equal to 1."
   ]
  },
  {
   "cell_type": "code",
   "execution_count": 75,
   "metadata": {},
   "outputs": [
    {
     "name": "stdout",
     "output_type": "stream",
     "text": [
      "Generation: 0\n",
      "Generation: 1\n",
      "Generation: 2\n",
      "Generation: 3\n",
      "Generation: 4\n",
      "Generation: 5\n",
      "Generation: 6\n",
      "Generation: 7\n",
      "Generation: 8\n",
      "Generation: 9\n",
      "Best chromosome: [0.00011891387928033228, 0.00015686511734852343, 2.5300825378794105e-05, 8.855288882577935e-05, 0.00013156429196972932, 0.0001897561903409558, 0.00016445536496216163, 0.00024035784109854397, 0.00011132363166669404, 2.024066030303528e-05, 5.060165075758821e-05, 0.00012903420943184989, 9.361305390153814e-05, 0.0, 0.00014927486973488518, 6.072198090910583e-05, 7.590247613638229e-06, 5.060165075758821e-05, 0.00024035784109854397, 0.0002201171807955087, 1.7303332139471193e-05, 0.0, 1.2977499104603398e-05, 5.7677773798237336e-05, 1.4419443449559334e-05, 0.00011968138063134245, 0.00013265887973594584, 0.00010526193718178309, 1.2977499104603398e-05, 0.00010670388152673903, 8.219082766248818e-05, 0.00013265887973594584, 7.209721724779667e-06, 0.00012112332497629837, 9.084249373222379e-05, 0.00011968138063134245, 0.00011102971456160684, 0.00012544915801116616, 0.00012544915801116616, 8.795860504231193e-05, 3.1722775589030525e-05, 0.000108145825871695, 4.325833034867799e-05, 0.00010381999283682719, 0.00011679749194143057, 0.000108145825871695, 3.1722775589030525e-05, 6.344555117806105e-05, 1.1535554759647466e-05, 4.9026107728501725e-05, 7.065527290284074e-05, 9.228443807717973e-05, 7.642305028266444e-05, 0.00012256526932125428, 0.0001312169353909899, 7.642305028266444e-05, 3.316471993398646e-05, 0.00013842665711576955, 8.524807438803811e-05, 0.00010229768926564575, 1.7049614877607627e-05, 0.00013469195753310022, 7.842822843699507e-05, 5.1148844632822876e-05, 9.718280480236348e-05, 0.0001312820345575787, 2.045953785312915e-05, 6.308357504714818e-05, 3.2394268267454477e-05, 9.718280480236348e-05, 9.547784331460271e-05, 0.00015174157241070786, 2.8984345291932964e-05, 7.67232669492343e-05, 0.0001398068419963825, 0.00016197134133727245, 9.718280480236348e-05, 9.707354367676806e-05, 6.694727150121935e-06, 0.00014393663372762162, 0.00016067345160292643, 0.05350324847997281, 1.5063136087774353e-05, 6.694727150121935e-06, 0.00014561031551515207, 0.00014561031551515207, 0.00011883140691466437, 0.0001422629519400911, 5.690518077603644e-05, 0.00012887349763984724, 1.0042090725182902e-05, 9.539986188923755e-05, 0.0001472839973026826, 7.36419986513413e-05, 8.36840893765242e-06, 0.0001338945430024387, 0.0001238524522772558, 4.5189408263323055e-05, 0.0001673681787530484, 1.6736817875304837e-06, 4.18420446882621e-05, 4.5189408263323055e-05, 8.36840893765242e-05, 4.5189408263323055e-05, 2.1757863237896287e-05, 0.00016234713339045688, 5.355781720097548e-05, 1.1715772512713384e-05, 1.5063136087774353e-05, 8.36840893765242e-05, 3.1799953963079184e-05, 9.372618010170707e-05, 9.874722546429851e-05, 6.025254435109741e-05, 0.0, 4.6863090050853535e-05, 0.00015899976981539592, 0.0001472839973026826, 2.1757863237896287e-05, 2.1757863237896287e-05, 0.0001405892701525606, 8.535777116405468e-05, 8.36840893765242e-06, 3.0126272175548707e-05, 1.1715772512713384e-05, 7.196831686381081e-05, 1.1715772512713384e-05, 0.0001422629519400911, 0.00014561031551515207, 9.372618010170707e-05, 4.5189408263323055e-05, 2.5105226812957258e-05, 9.037881652664611e-05, 3.514731753814015e-05, 0.00010974646426097964, 1.959758290374636e-05, 9.210863964760788e-05, 0.0001313038054551006, 0.0001548209049395962, 0.00012346477229360208, 7.839033161498544e-05, 3.7235407517118085e-05, 6.663178187273761e-05, 0.00019009655416633967, 0.00011170622255135423, 0.0001430623551973484, 0.00010582694768023032, 0.00016657945468184405, 0.00012346477229360208, 5.879274871123907e-06, 0.0001763782461337172, 4.703419896899126e-05, 0.00013914283861659913, 1.959758290374636e-05, 0.00019597582903746358, 8.035008990536005e-05, 0.00011758549742247815, 7.839033161498542e-06, 0.0001607001798107201, 0.00019009655416633967, 0.00011562573913210351, 0.00011562573913210351, 0.0001548209049395962, 0.00011758549742247815, 9.79879145187318e-06, 0.00013718308032622452, 5.879274871123907e-05, 0.00012150501400322741, 3.3315890936368804e-05, 9.210863964760788e-05, 0.00012934404716472594, 0.00014698187177809768, 4.8993957259365894e-05, 5.291347384011516e-05, 0.00011758549742247815, 4.507444067861662e-05, 1.1758549742247814e-05, 8.230984819573468e-05, 5.095371554974053e-05, 0.00011758549742247815, 5.6832990420864436e-05, 2.743661606524491e-05, 0.00014502211348772307, 0.00011954525571285281, 0.0003160336069871003, 6.387913332717984e-05, 3.698265613678834e-05, 0.00012775826665435968, 0.00025887859295751825, 8.40514912199735e-05, 0.0002420682947135236, 0.0001210341473567618, 0.00012775826665435968, 7.73273719223756e-05, 0.00013784444560075652, 0.00025551653330871935, 0.00027568889120151304, 5.0430894731984096e-05, 0.0001210341473567618, 0.00019499945963033846, 0.00018491328068394168, 0.00028913712979670883, 0.013761168771016553, 0.0003093094876895024, 7.396531227357668e-05, 0.0002958612490943067, 6.387913332717984e-05, 0.00022189593682073002, 0.00020844769822553423, 3.362059648798939e-05, 3.698265613678834e-05, 5.379295438078303e-05, 2.353441754159258e-05, 0.0002387062350647247, 6.387913332717984e-05, 2.6896477190391515e-05, 0.00031939566663589925, 0.00020508563857673533, 9.413767016637032e-05, 0.00017146504208874594, 0.00018491328068394168, 0.0003025853683919045, 0.05651825161948164, 5.7155014029581964e-05, 1.6810298243994697e-05, 0.00026560271225511614, 0.00019499945963033846, 0.00021180975787433317, 0.0002622406526063173, 0.00020508563857673533, 0.0003261197859334971, 0.00019499945963033846, 6.724119297597879e-05, 5.0430894731984096e-05, 0.00035401633627433305, 0.000300913885833183, 0.0003398556828233597, 0.06373200334758858, 0.00034693600954884636, 7.080326725486661e-06, 0.00015222702459796318, 0.0003186147026468997, 0.00030799421255866974, 0.00030799421255866974, 0.00022657045521557316, 0.00018054833149990987, 5.664261380389329e-05, 0.000300913885833183, 0.0001486868612352198, 0.0002655122522057497, 0.00020532947503911313, 0.00020532947503911313, 0.00013098604442150321, 0.00017700816813716653, 8.410501929203066e-05, 3.622985446425937e-05, 0.00016267412323387443, 0.0001834812785312304, 1.7024036152382203e-05, 0.0002326009029070391, 0.00014292344636456623, 4.483872827123646e-05, 3.082662568647507e-05, 0.00019897185670361177, 5.885083085599783e-05, 0.00012330650274590028, 0.00021858880032227774, 0.00013171376429675709, 0.00021858880032227774, 9.528229757637745e-05, 0.00015693554894932762, 0.0001148992411950434, 0.0002297984823900868, 2.802420516952279e-06, 0.0002578226875596096, 0.00020737911825446855, 7.56653539577115e-05, 0.0001148992411950434, 6.165325137295014e-05, 0.00013217203168609177, 0.0001393814152326059, 7.209383546514098e-06, 1.2015639244190165e-05, 8.17063468604931e-05, 0.0001634126937209862, 0.00021387837854658487, 1.4418767093028197e-05, 9.372198610468327e-05, 3.604691773257048e-05, 7.690009116281704e-05, 9.612511395352132e-05, 7.209383546514098e-06, 2.6434406337218357e-05, 0.00015139705447679604, 0.00012736577598841575, 0.00012496264813957768, 0.0002234908899419371, 0.00018263771651169045, 8.410947470933115e-05, 0.00020907212284890884, 5.2868812674436714e-05, 1.922502279070426e-05, 0.00010573762534887343, 0.0002502965000494927, 6.586750001302443e-05, 0.00042155200008335623, 3.073816667274473e-05, 0.00010977916668837401, 0.00010977916668837401, 6.147633334548946e-05, 4.391166667534962e-06, 0.00014929966669618866, 5.269400001041953e-05, 0.00012734383335851387, 0.0002985993333923773, 9.221450001823417e-05, 0.000338119833400192, 0.00018003783336893343, 0.0002854258333897725, 0.00035568450007033187, 0.0003469021667352619, 0.0003952050000781465, 0.0001009968333533041, 0.0001932113333715383, 0.00018003783336893343, 8.782333335069922e-05, 0.0002502965000494927, 8.782333335069924e-06, 6.586750001302443e-05, 9.660566668576915e-05, 0.0002634700000520977, 6.147633334548946e-05, 2.1955833337674805e-05, 0.00029420816672484244, 0.00036007566673786686, 4.391166667534961e-05, 3.9520500007814654e-05, 0.0003776403334080066, 5.269400001041953e-05, 0.0001932113333715383, 0.00017564666670139844, 0.060719414067581, 5.708516667795449e-05, 0.0002502965000494927, 0.00011856150002344396, 0.0002810346667222376, 6.147633334548946e-05, 0.0002151671667092131, 0.00013173500002604886, 0.00016247316669879358, 0.003529557223267639, 0.0001009968333533041, 0.0001449085000286537, 0.0003073816667274473, 0.0002019936667066082, 0.0002019936667066082, 0.00022394950004428303, 0.0, 0.00010538800002083906, 0.00029420816672484244, 0.00031616400006251723, 7.02586666805594e-05, 0.00010977916668837401, 0.00022394950004428303, 0.0002019936667066082, 4.830283334288457e-05, 0.00030299050005991226, 0.0004039873334132164, 0.00019760250003907325, 0.00024151416671442288, 0.00027664350005470253, 0.00016247316669879358, 0.6960258757106692, 5.708516667795449e-05, 0.0004039873334132164, 0.0001932113333715383, 0.0003776403334080066, 0.00018003783336893343, 0.00021955833337674802, 0.00010538800002083906, 5.269400001041953e-05, 0.0003952050000781465, 0.00034251100006772706, 6.147633334548946e-05, 0.0003864226667430766, 1.756466667013985e-05, 0.0004259431667508912, 0.00039959616674568155, 0.00036007566673786686, 9.660566668576915e-05, 0.00016247316669879358, 0.00016247316669879358, 0.0002634700000520977, 0.0003820315000755416, 0.00031616400006251723, 0.00035568450007033187, 0.00025468766671702775, 0.0003732491667404716, 0.00010977916668837401, 0.00017125550003386353]\n",
      "Sum of return for the best chromosome: 12.51921721078584\n",
      "Sum of risk for the best chromosome: 0.64057975013125\n",
      "Sum of values(shares):1.0\n",
      "[0.00011891387928033228, 0.00015686511734852343, 2.5300825378794105e-05, 8.855288882577935e-05, 0.00013156429196972932, 0.0001897561903409558, 0.00016445536496216163, 0.00024035784109854397, 0.00011132363166669404, 2.024066030303528e-05, 5.060165075758821e-05, 0.00012903420943184989, 9.361305390153814e-05, 0.0, 0.00014927486973488518, 6.072198090910583e-05, 7.590247613638229e-06, 5.060165075758821e-05, 0.00024035784109854397, 0.0002201171807955087, 1.7303332139471193e-05, 0.0, 1.2977499104603398e-05, 5.7677773798237336e-05, 1.4419443449559334e-05, 0.00011968138063134245, 0.00013265887973594584, 0.00010526193718178309, 1.2977499104603398e-05, 0.00010670388152673903, 8.219082766248818e-05, 0.00013265887973594584, 7.209721724779667e-06, 0.00012112332497629837, 9.084249373222379e-05, 0.00011968138063134245, 0.00011102971456160684, 0.00012544915801116616, 0.00012544915801116616, 8.795860504231193e-05, 3.1722775589030525e-05, 0.000108145825871695, 4.325833034867799e-05, 0.00010381999283682719, 0.00011679749194143057, 0.000108145825871695, 3.1722775589030525e-05, 6.344555117806105e-05, 1.1535554759647466e-05, 4.9026107728501725e-05, 7.065527290284074e-05, 9.228443807717973e-05, 7.642305028266444e-05, 0.00012256526932125428, 0.0001312169353909899, 7.642305028266444e-05, 3.316471993398646e-05, 0.00013842665711576955, 8.524807438803811e-05, 0.00010229768926564575, 1.7049614877607627e-05, 0.00013469195753310022, 7.842822843699507e-05, 5.1148844632822876e-05, 9.718280480236348e-05, 0.0001312820345575787, 2.045953785312915e-05, 6.308357504714818e-05, 3.2394268267454477e-05, 9.718280480236348e-05, 9.547784331460271e-05, 0.00015174157241070786, 2.8984345291932964e-05, 7.67232669492343e-05, 0.0001398068419963825, 0.00016197134133727245, 9.718280480236348e-05, 9.707354367676806e-05, 6.694727150121935e-06, 0.00014393663372762162, 0.00016067345160292643, 0.05350324847997281, 1.5063136087774353e-05, 6.694727150121935e-06, 0.00014561031551515207, 0.00014561031551515207, 0.00011883140691466437, 0.0001422629519400911, 5.690518077603644e-05, 0.00012887349763984724, 1.0042090725182902e-05, 9.539986188923755e-05, 0.0001472839973026826, 7.36419986513413e-05, 8.36840893765242e-06, 0.0001338945430024387, 0.0001238524522772558, 4.5189408263323055e-05, 0.0001673681787530484, 1.6736817875304837e-06, 4.18420446882621e-05, 4.5189408263323055e-05, 8.36840893765242e-05, 4.5189408263323055e-05, 2.1757863237896287e-05, 0.00016234713339045688, 5.355781720097548e-05, 1.1715772512713384e-05, 1.5063136087774353e-05, 8.36840893765242e-05, 3.1799953963079184e-05, 9.372618010170707e-05, 9.874722546429851e-05, 6.025254435109741e-05, 0.0, 4.6863090050853535e-05, 0.00015899976981539592, 0.0001472839973026826, 2.1757863237896287e-05, 2.1757863237896287e-05, 0.0001405892701525606, 8.535777116405468e-05, 8.36840893765242e-06, 3.0126272175548707e-05, 1.1715772512713384e-05, 7.196831686381081e-05, 1.1715772512713384e-05, 0.0001422629519400911, 0.00014561031551515207, 9.372618010170707e-05, 4.5189408263323055e-05, 2.5105226812957258e-05, 9.037881652664611e-05, 3.514731753814015e-05, 0.00010974646426097964, 1.959758290374636e-05, 9.210863964760788e-05, 0.0001313038054551006, 0.0001548209049395962, 0.00012346477229360208, 7.839033161498544e-05, 3.7235407517118085e-05, 6.663178187273761e-05, 0.00019009655416633967, 0.00011170622255135423, 0.0001430623551973484, 0.00010582694768023032, 0.00016657945468184405, 0.00012346477229360208, 5.879274871123907e-06, 0.0001763782461337172, 4.703419896899126e-05, 0.00013914283861659913, 1.959758290374636e-05, 0.00019597582903746358, 8.035008990536005e-05, 0.00011758549742247815, 7.839033161498542e-06, 0.0001607001798107201, 0.00019009655416633967, 0.00011562573913210351, 0.00011562573913210351, 0.0001548209049395962, 0.00011758549742247815, 9.79879145187318e-06, 0.00013718308032622452, 5.879274871123907e-05, 0.00012150501400322741, 3.3315890936368804e-05, 9.210863964760788e-05, 0.00012934404716472594, 0.00014698187177809768, 4.8993957259365894e-05, 5.291347384011516e-05, 0.00011758549742247815, 4.507444067861662e-05, 1.1758549742247814e-05, 8.230984819573468e-05, 5.095371554974053e-05, 0.00011758549742247815, 5.6832990420864436e-05, 2.743661606524491e-05, 0.00014502211348772307, 0.00011954525571285281, 0.0003160336069871003, 6.387913332717984e-05, 3.698265613678834e-05, 0.00012775826665435968, 0.00025887859295751825, 8.40514912199735e-05, 0.0002420682947135236, 0.0001210341473567618, 0.00012775826665435968, 7.73273719223756e-05, 0.00013784444560075652, 0.00025551653330871935, 0.00027568889120151304, 5.0430894731984096e-05, 0.0001210341473567618, 0.00019499945963033846, 0.00018491328068394168, 0.00028913712979670883, 0.013761168771016553, 0.0003093094876895024, 7.396531227357668e-05, 0.0002958612490943067, 6.387913332717984e-05, 0.00022189593682073002, 0.00020844769822553423, 3.362059648798939e-05, 3.698265613678834e-05, 5.379295438078303e-05, 2.353441754159258e-05, 0.0002387062350647247, 6.387913332717984e-05, 2.6896477190391515e-05, 0.00031939566663589925, 0.00020508563857673533, 9.413767016637032e-05, 0.00017146504208874594, 0.00018491328068394168, 0.0003025853683919045, 0.05651825161948164, 5.7155014029581964e-05, 1.6810298243994697e-05, 0.00026560271225511614, 0.00019499945963033846, 0.00021180975787433317, 0.0002622406526063173, 0.00020508563857673533, 0.0003261197859334971, 0.00019499945963033846, 6.724119297597879e-05, 5.0430894731984096e-05, 0.00035401633627433305, 0.000300913885833183, 0.0003398556828233597, 0.06373200334758858, 0.00034693600954884636, 7.080326725486661e-06, 0.00015222702459796318, 0.0003186147026468997, 0.00030799421255866974, 0.00030799421255866974, 0.00022657045521557316, 0.00018054833149990987, 5.664261380389329e-05, 0.000300913885833183, 0.0001486868612352198, 0.0002655122522057497, 0.00020532947503911313, 0.00020532947503911313, 0.00013098604442150321, 0.00017700816813716653, 8.410501929203066e-05, 3.622985446425937e-05, 0.00016267412323387443, 0.0001834812785312304, 1.7024036152382203e-05, 0.0002326009029070391, 0.00014292344636456623, 4.483872827123646e-05, 3.082662568647507e-05, 0.00019897185670361177, 5.885083085599783e-05, 0.00012330650274590028, 0.00021858880032227774, 0.00013171376429675709, 0.00021858880032227774, 9.528229757637745e-05, 0.00015693554894932762, 0.0001148992411950434, 0.0002297984823900868, 2.802420516952279e-06, 0.0002578226875596096, 0.00020737911825446855, 7.56653539577115e-05, 0.0001148992411950434, 6.165325137295014e-05, 0.00013217203168609177, 0.0001393814152326059, 7.209383546514098e-06, 1.2015639244190165e-05, 8.17063468604931e-05, 0.0001634126937209862, 0.00021387837854658487, 1.4418767093028197e-05, 9.372198610468327e-05, 3.604691773257048e-05, 7.690009116281704e-05, 9.612511395352132e-05, 7.209383546514098e-06, 2.6434406337218357e-05, 0.00015139705447679604, 0.00012736577598841575, 0.00012496264813957768, 0.0002234908899419371, 0.00018263771651169045, 8.410947470933115e-05, 0.00020907212284890884, 5.2868812674436714e-05, 1.922502279070426e-05, 0.00010573762534887343, 0.0002502965000494927, 6.586750001302443e-05, 0.00042155200008335623, 3.073816667274473e-05, 0.00010977916668837401, 0.00010977916668837401, 6.147633334548946e-05, 4.391166667534962e-06, 0.00014929966669618866, 5.269400001041953e-05, 0.00012734383335851387, 0.0002985993333923773, 9.221450001823417e-05, 0.000338119833400192, 0.00018003783336893343, 0.0002854258333897725, 0.00035568450007033187, 0.0003469021667352619, 0.0003952050000781465, 0.0001009968333533041, 0.0001932113333715383, 0.00018003783336893343, 8.782333335069922e-05, 0.0002502965000494927, 8.782333335069924e-06, 6.586750001302443e-05, 9.660566668576915e-05, 0.0002634700000520977, 6.147633334548946e-05, 2.1955833337674805e-05, 0.00029420816672484244, 0.00036007566673786686, 4.391166667534961e-05, 3.9520500007814654e-05, 0.0003776403334080066, 5.269400001041953e-05, 0.0001932113333715383, 0.00017564666670139844, 0.060719414067581, 5.708516667795449e-05, 0.0002502965000494927, 0.00011856150002344396, 0.0002810346667222376, 6.147633334548946e-05, 0.0002151671667092131, 0.00013173500002604886, 0.00016247316669879358, 0.003529557223267639, 0.0001009968333533041, 0.0001449085000286537, 0.0003073816667274473, 0.0002019936667066082, 0.0002019936667066082, 0.00022394950004428303, 0.0, 0.00010538800002083906, 0.00029420816672484244, 0.00031616400006251723, 7.02586666805594e-05, 0.00010977916668837401, 0.00022394950004428303, 0.0002019936667066082, 4.830283334288457e-05, 0.00030299050005991226, 0.0004039873334132164, 0.00019760250003907325, 0.00024151416671442288, 0.00027664350005470253, 0.00016247316669879358, 0.6960258757106692, 5.708516667795449e-05, 0.0004039873334132164, 0.0001932113333715383, 0.0003776403334080066, 0.00018003783336893343, 0.00021955833337674802, 0.00010538800002083906, 5.269400001041953e-05, 0.0003952050000781465, 0.00034251100006772706, 6.147633334548946e-05, 0.0003864226667430766, 1.756466667013985e-05, 0.0004259431667508912, 0.00039959616674568155, 0.00036007566673786686, 9.660566668576915e-05, 0.00016247316669879358, 0.00016247316669879358, 0.0002634700000520977, 0.0003820315000755416, 0.00031616400006251723, 0.00035568450007033187, 0.00025468766671702775, 0.0003732491667404716, 0.00010977916668837401, 0.00017125550003386353]\n"
     ]
    }
   ],
   "source": [
    "\n",
    "# Define the number of genes (stocks) and chromosomes (solutions) in the population\n",
    "numGenes = 400\n",
    "numChromosomes = 100\n",
    "# define the hyperparameters for the mutation and crossover functions\n",
    "mutation_rate = 0.001\n",
    "crossover_rate = 0.8\n",
    "\n",
    "# Define the gene as a floating-point number between 0 and 1\n",
    "def createGene():\n",
    "    gene = round(random.uniform(0, 1), 2)\n",
    "#    print(f\"Gene created: {gene}\")\n",
    "    return gene\n",
    "\n",
    "\n",
    "\n",
    "# Define the chromosome as a list of genes where the sum of all genes equals 1\n",
    "def createChromosome():\n",
    "    chromosome = []\n",
    "    sumGenes = 0\n",
    "    for i in range(numGenes):\n",
    "        gene = createGene()\n",
    "        chromosome.append(gene)\n",
    "        sumGenes += gene\n",
    "    # Normalize the genes so that the sum equals 1\n",
    "    for i in range(numGenes):\n",
    "        chromosome[i] /= sumGenes\n",
    "#    print(f\"Chromosome created: {chromosome}\")\n",
    "    return chromosome\n",
    "\n",
    "# Create an initial population of chromosomes randomly\n",
    "def createPopulation():\n",
    "    population = []\n",
    "    for i in range(numChromosomes):\n",
    "        chromosome = createChromosome()\n",
    "        population.append(chromosome)\n",
    "#    print(f\"Population created: {population}\")\n",
    "    return population\n",
    "\n",
    "# define fitness function\n",
    "def fitness(chromosome):\n",
    "    # calculate return and risk\n",
    "    total_return = 0\n",
    "    total_risk = 0\n",
    "    for i in range(numGenes):\n",
    "        total_return += chromosome[i] * df['return'][i]\n",
    "        total_risk += chromosome[i] * df['risk'][i]\n",
    "    # calculate number of shares\n",
    "    num_shares = sum([1 for i in range(numGenes) if chromosome[i] > 0])\n",
    "    # combine into fitness score\n",
    "    return (5*total_return - 4*total_risk) * num_shares, num_shares\n",
    "\n",
    "\n",
    "\n",
    "# Perform tournament selection to select the best parent chromosome\n",
    "def tournamentSelection(population):\n",
    "    # randomly select a subset of chromosomes from the population\n",
    "    tournament = random.sample(population, k=5)\n",
    "    # sort the tournament by fitness in descending order\n",
    "    tournament.sort(key=lambda chromosome: fitness(chromosome)[0], reverse=True)\n",
    "    # return the best chromosome as the parent\n",
    "    parent = tournament[0]\n",
    "#    print(f\"Parent selected: {parent}\")\n",
    "    return parent\n",
    "\n",
    "# Perform single point crossover to create two offspring chromosomes\n",
    "def singlePointCrossover(parent1, parent2):\n",
    "    # randomly select a crossover point\n",
    "    crossover_point = random.randint(0, numGenes-1)\n",
    "    # create offspring chromosomes by swapping genes from the parents\n",
    "    offspring1 = parent1[:crossover_point] + parent2[crossover_point:]\n",
    "    offspring2 = parent2[:crossover_point] + parent1[crossover_point:]\n",
    "#    print(f\"Parents: {parent1}, {parent2}\")\n",
    "#    print(f\"Offspring created: {offspring1}, {offspring2}\")\n",
    "    return offspring1, offspring2\n",
    "\n",
    "\n",
    "# Perform crossover on the current population\n",
    "def crossover(population):\n",
    "    new_population = []\n",
    "    for i in range(numChromosomes // 2):\n",
    "        # select two parent chromosomes using tournament selection\n",
    "        parent1 = tournamentSelection(population)\n",
    "        parent2 = tournamentSelection(population)\n",
    "        # perform crossover to create two offspring chromosomes\n",
    "        offspring1, offspring2 = singlePointCrossover(parent1, parent2)\n",
    "        # append the offspring chromosomes to the new population\n",
    "        new_population.append(offspring1)\n",
    "        new_population.append(offspring2)\n",
    "#        print(f\"Offspring created: {offspring1}, {offspring2}\")\n",
    "    return new_population\n",
    "\n",
    "# Define the mutation function\n",
    "def mutate(chromosome):\n",
    "    # randomly select a gene to mutate\n",
    "    gene_index = random.randint(0, numGenes-1)\n",
    "    \n",
    "    # randomly generate a new gene\n",
    "    new_gene = createGene()\n",
    "    \n",
    "    # replace the old gene with the new gene\n",
    "    chromosome[gene_index] = new_gene\n",
    "    \n",
    "    # normalize the chromosome\n",
    "    sum_genes = sum(chromosome)\n",
    "    if sum_genes > 1:\n",
    "        chromosome = [gene/sum_genes for gene in chromosome]\n",
    "    \n",
    "    return chromosome\n",
    "\n",
    "\n",
    "\n",
    "def geneticAlgorithm():\n",
    "    # create initial population\n",
    "    population = createPopulation()\n",
    "    \n",
    "    # iterate through generations\n",
    "    for generation in range(10):\n",
    "        print(f\"Generation: {generation}\")\n",
    "        # perform crossover on the population\n",
    "        new_population = crossover(population)\n",
    "        \n",
    "        # mutate the new population\n",
    "        for i in range(len(new_population)):\n",
    "            new_population[i] = mutate(new_population[i])\n",
    "\n",
    "                    \n",
    "        # evaluate fitness of the new population\n",
    "        fitness_scores = []\n",
    "        for chromosome in new_population:\n",
    "            fitness_score = fitness(chromosome)\n",
    "            fitness_scores.append(fitness_score)\n",
    "        \n",
    "        # sort the new population by fitness in descending order\n",
    "        new_population = [chromosome for _,chromosome in sorted(zip(fitness_scores,new_population), reverse=True)]\n",
    "        \n",
    "        # select the top 100 chromosomes to be the next generation\n",
    "        population = new_population[:numChromosomes]\n",
    "        \n",
    "    # calculate and print the sum of risk and return for the best chromosome\n",
    "    best_chromosome = max(population, key=lambda chromosome: fitness(chromosome)[0])\n",
    "    best_return = sum([best_chromosome[i] * df['return'][i] for i in range(numGenes)])\n",
    "    best_risk = sum([best_chromosome[i] * df['risk'][i] for i in range(numGenes)])\n",
    "    Sum = sum([best_chromosome[i] for i in range(numGenes)]\n",
    "              )\n",
    "    print(f\"Best chromosome: {best_chromosome}\")\n",
    "    print(f\"Sum of return for the best chromosome: {best_return}\")\n",
    "    print(f\"Sum of risk for the best chromosome: {best_risk}\")\n",
    "    print(f\"Sum of values(shares):{Sum}\")\n",
    "    return best_chromosome\n",
    "\n",
    "\n",
    "\n",
    "\n",
    "# create initial population\n",
    "population = createPopulation()\n",
    "# perform crossover on the population\n",
    "new_population = crossover(population)\n",
    "# print the new population\n",
    "#print(f\"New population: {new_population}\")\n",
    "\n",
    "\n",
    "createPopulation()\n",
    "chromosome = createChromosome()\n",
    "# perform crossover on the population\n",
    "new_population = crossover(population)\n",
    "#print(\"Chromosome: \", chromosome)\n",
    "#print(\"Fitness: \", fitness(chromosome))\n",
    "# print the new population\n",
    "#print(f\"New population: {new_population}\")\n",
    "\n",
    "solution = geneticAlgorithm() \n",
    "#solution[:] = [x / 100 for x in solution]\n",
    "print(solution)\n",
    "\n",
    "# Read the CSV file into a DataFrame\n",
    "df = pd.read_csv('sample.csv')\n",
    "df['value'] = solution \n",
    "df.to_csv('updated_sample.csv', index=False)\n"
   ]
  },
  {
   "attachments": {},
   "cell_type": "markdown",
   "metadata": {},
   "source": [
    "### Questions:"
   ]
  },
  {
   "attachments": {},
   "cell_type": "markdown",
   "metadata": {},
   "source": [
    "1. What problems do a very small or very large initial population cause?\n",
    "\n",
    "A very small initial population can lead to a lack of diversity in the population and may result in the algorithm getting stuck in a local optima.\n",
    "\n",
    "A very large initial population can be computationally expensive and may take longer to converge to an optimal solution."
   ]
  },
  {
   "attachments": {},
   "cell_type": "markdown",
   "metadata": {},
   "source": [
    "2. If the number of population increases in each period, what effect does it have on the accuracy and speed of the algorithm?\n",
    "\n",
    "Increasing the number of population in each period can improve the accuracy of the algorithm by increasing the diversity of the population, but it can also slow down the algorithm due to the increased computation required to evaluate the fitness of a larger population."
   ]
  },
  {
   "attachments": {},
   "cell_type": "markdown",
   "metadata": {},
   "source": [
    "3. State and compare the effect of each crossover and mutation operation. Is it possible to use only one of them? Why ?\n",
    "\n",
    "- Crossover: Swaping parts of the solution with another in chromosomes or solution representations. The main role is to provide mixing of the solutions and convergence in a subspace.\n",
    "\n",
    "- Mutation: The change of parts of one solution randomly, which increases the diversity of the population and provides a mechanism for escaping from a local optimum.\n",
    "\n",
    "It is possible to use only one of them, but using both crossover and mutation generally leads to better results as they complement each other in terms of exploring the search space and maintaining diversity in the population."
   ]
  },
  {
   "attachments": {},
   "cell_type": "markdown",
   "metadata": {},
   "source": [
    "4. In your opinion, what solutions are there to get a faster solution to this particular problem?\n",
    "\n",
    "- One solution to get a faster solution to this particular problem could be to use a more advanced optimization algorithm such as a particle swarm optimization or a differential evolution algorithm. These algorithms are designed to handle high-dimensional optimization problems and can converge to optimal solutions faster than a genetic algorithm.\n",
    " \n",
    "- Fine-tuning the algorithm parameters, such as population size, crossover and mutation rates, and selection methods, to achieve better performance.\n",
    "\n",
    "- Implementing local search algorithms to improve the performance of the genetic algorithm, such as using hill-climbing to find better solutions around the current best solution."
   ]
  },
  {
   "attachments": {},
   "cell_type": "markdown",
   "metadata": {},
   "source": [
    "5. Despite the use of these methods, it is still possible that the chromosomes will not change after a few more steps. Explain the reason for this and the problems it causes. What do you suggest to solve it?\n",
    "\n",
    "The chromosomes may not change after a few more steps due to a phenomenon called premature convergence, where the algorithm becomes stuck in a suboptimal solution and is unable to escape it.\n",
    "\n",
    "This can be caused by a too small population size or a lack of diversity in the population due to the selection of the same individuals in each generation. To solve this problem, some possible solutions include:\n",
    "\n",
    "- Increasing the population size to maintain diversity and prevent premature convergence.\n",
    "\n",
    "- Using different selection methods to avoid selecting the same individuals repeatedly.\n",
    "\n",
    "- Using adaptive parameters to change the crossover and mutation rates dynamically based on the current state of the population."
   ]
  },
  {
   "attachments": {},
   "cell_type": "markdown",
   "metadata": {},
   "source": [
    "6. What solution do you suggest to end the program if the problem is not solved?\n",
    "\n",
    "If the problem is not solved within a certain number of generations or a given amount of time, the program can be terminated and the current best solution can be returned as the final solution.\n",
    "\n",
    "Alternatively, we can set a threshold, the program can be stop when a certain fitness threshold is reached or when the improvement in fitness over a certain number of generations falls below a certain threshold. It is also possible to combine different stopping criteria to ensure that the program terminates when the desired level of performance is achieved."
   ]
  }
 ],
 "metadata": {
  "kernelspec": {
   "display_name": "Python 3",
   "language": "python",
   "name": "python3"
  },
  "language_info": {
   "codemirror_mode": {
    "name": "ipython",
    "version": 3
   },
   "file_extension": ".py",
   "mimetype": "text/x-python",
   "name": "python",
   "nbconvert_exporter": "python",
   "pygments_lexer": "ipython3",
   "version": "3.9.7"
  },
  "orig_nbformat": 4
 },
 "nbformat": 4,
 "nbformat_minor": 2
}
